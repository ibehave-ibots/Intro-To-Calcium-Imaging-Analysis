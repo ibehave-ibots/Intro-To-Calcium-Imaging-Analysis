{
 "cells": [
  {
   "cell_type": "markdown",
   "metadata": {},
   "source": [
    "## Installation \n",
    "\n",
    "```python\n",
    "conda install -n base -c conda-forge mamba   # install mamba in base environment\n",
    "mamba create -n caiman -c conda-forge caiman # install caiman\n",
    "conda activate caiman  # activate virtual environment\n",
    "```\n",
    "\n",
    "When installation is complete, \n",
    "\n",
    "```python\n",
    "python -c \"import caiman\"\n",
    "```\n",
    "\n",
    "If you get any errors, (likely with `holoviews` and `tensorflow`) do these within the conda environment\n",
    "\n",
    "```python\n",
    "pip uninstall holoviews\n",
    "pip install holoviews --upgrade\n",
    "```\n",
    "\n",
    "```python\n",
    "pip uninstall tensorflow\n",
    "pip install tensorflow --upgrade\n",
    "```\n",
    "\n"
   ]
  }
 ],
 "metadata": {
  "language_info": {
   "name": "python"
  }
 },
 "nbformat": 4,
 "nbformat_minor": 2
}
