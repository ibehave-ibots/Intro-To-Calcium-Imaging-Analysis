{
 "cells": [
  {
   "cell_type": "markdown",
   "metadata": {},
   "source": [
    "## Installation \n",
    "\n",
    "```python\n",
    "conda install -n base -c conda-forge mamba   # install mamba in base environment\n",
    "mamba create -n caiman -c conda-forge caiman # install caiman\n",
    "conda activate caiman  # activate virtual environment\n",
    "```\n",
    "\n",
    "When installation is complete, \n",
    "\n",
    "```python\n",
    "python -c \"import caiman\"\n",
    "```\n",
    "\n",
    "If you get any errors, (likely with `holoviews` and `tensorflow`) do these within the conda environment\n",
    "\n",
    "```python\n",
    "pip uninstall holoviews\n",
    "pip install holoviews --upgrade\n",
    "```\n",
    "\n",
    "```python\n",
    "pip uninstall tensorflow\n",
    "pip install tensorflow --upgrade\n",
    "```\n",
    "\n",
    "## Caiman Manager\n",
    "\n",
    "```shell\n",
    "caimanmanager install\n",
    "```\n",
    "\n",
    "to download caiman data to run demo notebooks\n",
    "\n",
    "\n",
    "## Demo Notebooks\n",
    "\n",
    "1. Download [win.py](https://github.com/flatironinstitute/CaImAn/blob/main/demos/notebooks/win.py) to run demo_realtime_cnmfE.ipynb notebook\n",
    "2. Did not completely run demo_realtime_cnmfE notebook --> reason: took too long to train models\n",
    "\n",
    "## Video Study\n",
    "\n",
    "### Requirements for cellular brain imaging analysis [Reference Video](https://www.youtube.com/watch?v=5APzPRbzUIA) \n",
    "\n",
    "Universal pre-processing steps\n",
    "\n",
    "1. Motion Correction: correct motion\n",
    "2. Neuron Localization: approximate location of neurons\n",
    "3. Denoise Spatial and Temporal: clean up\n",
    "4. Extract Spikes: \n",
    "5. Estimate Sub-Threshold"
   ]
  }
 ],
 "metadata": {
  "language_info": {
   "name": "python"
  }
 },
 "nbformat": 4,
 "nbformat_minor": 2
}
