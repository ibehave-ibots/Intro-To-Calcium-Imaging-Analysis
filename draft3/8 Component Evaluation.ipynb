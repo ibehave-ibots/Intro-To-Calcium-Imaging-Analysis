{
 "cells": [
  {
   "cell_type": "code",
   "execution_count": 1,
   "metadata": {},
   "outputs": [],
   "source": [
    "%matplotlib widget\n",
    "import numpy as np\n",
    "import caiman as cm\n",
    "import matplotlib.pyplot as plt\n",
    "from caiman.motion_correction import MotionCorrect\n",
    "from caiman.source_extraction.cnmf import cnmf\n",
    "from caiman.source_extraction.cnmf.params import CNMFParams\n",
    "from caiman.utils.visualization import view_quilt\n",
    "import pandas as pd"
   ]
  },
  {
   "cell_type": "code",
   "execution_count": 2,
   "metadata": {},
   "outputs": [],
   "source": [
    "fname = \"../data/Sue_2x_3000_40_-46.tif\"\n",
    "movie_orig = cm.load(fname)"
   ]
  },
  {
   "cell_type": "code",
   "execution_count": 3,
   "metadata": {},
   "outputs": [
    {
     "name": "stderr",
     "output_type": "stream",
     "text": [
      "WARNING:root:Movie average is negative. Removing 1st percentile.\n",
      "WARNING:root:Movie average is negative. Removing 1st percentile.\n",
      "WARNING:root:Movie average is negative. Removing 1st percentile.\n",
      "WARNING:root:Movie average is negative. Removing 1st percentile.\n",
      "WARNING:root:Movie average is negative. Removing 1st percentile.\n",
      "WARNING:root:Movie average is negative. Removing 1st percentile.\n"
     ]
    },
    {
     "data": {
      "text/plain": [
       "['../data\\\\Sue_2x_3000_40_-46_els__d1_170_d2_170_d3_1_order_F_frames_3000.mmap']"
      ]
     },
     "execution_count": 3,
     "metadata": {},
     "output_type": "execute_result"
    }
   ],
   "source": [
    "# motion correction\n",
    "params = CNMFParams()\n",
    "motion_params = {\n",
    "    'strides': (48, 48),\n",
    "    'overlaps': (24, 24),\n",
    "    'max_shifts': (6, 6),\n",
    "    'max_deviation_rigid': 3,\n",
    "    'pw_rigid': True\n",
    "}\n",
    "params.motion.update(motion_params)\n",
    "mc = MotionCorrect(fname, **params.motion)\n",
    "mc.motion_correct(save_movie=True)\n",
    "mc.fname_tot_els"
   ]
  },
  {
   "cell_type": "code",
   "execution_count": 4,
   "metadata": {},
   "outputs": [],
   "source": [
    "mc_fname = cm.save_memmap(\n",
    "    mc.fname_tot_els,\n",
    "    base_name='memmap_',\n",
    "    order='C'\n",
    ")"
   ]
  },
  {
   "cell_type": "code",
   "execution_count": 5,
   "metadata": {},
   "outputs": [
    {
     "data": {
      "text/plain": [
       "(3000, 170, 170)"
      ]
     },
     "execution_count": 5,
     "metadata": {},
     "output_type": "execute_result"
    }
   ],
   "source": [
    "Yr, dims, num_frames = cm.load_memmap(mc_fname)\n",
    "images = np.reshape(Yr.T, [num_frames] + list(dims), order='F')\n",
    "images.shape"
   ]
  },
  {
   "cell_type": "code",
   "execution_count": 6,
   "metadata": {},
   "outputs": [],
   "source": [
    "patch_params = {\n",
    "    \"rf\": 15,\n",
    "    \"stride\": 10,\n",
    "    'gSig': 4,\n",
    "    'K': 7    \n",
    "}\n",
    "params.patch.update(patch_params)\n",
    "cnmf_model = cnmf.CNMF(n_processes=1, params=params)"
   ]
  },
  {
   "cell_type": "code",
   "execution_count": 7,
   "metadata": {},
   "outputs": [],
   "source": [
    "cnmf_fit = cnmf_model.fit(images)"
   ]
  },
  {
   "cell_type": "code",
   "execution_count": 8,
   "metadata": {},
   "outputs": [],
   "source": [
    "cnmf_refit = cnmf_fit.refit(images)"
   ]
  },
  {
   "cell_type": "code",
   "execution_count": 9,
   "metadata": {},
   "outputs": [
    {
     "name": "stderr",
     "output_type": "stream",
     "text": [
      "100%|██████████| 1/1 [00:00<00:00,  4.45it/s]\n"
     ]
    }
   ],
   "source": [
    "movie_corrected = cm.load(mc.mmap_file) # load motion corrected movie\n",
    "correlation_image = cm.local_correlations(movie_corrected, swap_dim=False)"
   ]
  },
  {
   "cell_type": "code",
   "execution_count": 10,
   "metadata": {},
   "outputs": [
    {
     "name": "stdout",
     "output_type": "stream",
     "text": [
      "Thresholds to be used for evaluate_components()\n",
      "min_SNR = 2.5\n",
      "rval_thr = 0.8\n",
      "min_cnn_thr = 0.9\n"
     ]
    }
   ],
   "source": [
    "print(\"Thresholds to be used for evaluate_components()\")\n",
    "print(f\"min_SNR = {cnmf_refit.params.quality['min_SNR']}\")\n",
    "print(f\"rval_thr = {cnmf_refit.params.quality['rval_thr']}\")\n",
    "print(f\"min_cnn_thr = {cnmf_refit.params.quality['min_cnn_thr']}\")"
   ]
  },
  {
   "cell_type": "code",
   "execution_count": 11,
   "metadata": {},
   "outputs": [
    {
     "name": "stderr",
     "output_type": "stream",
     "text": [
      "WARNING:root:Component 2 is only active jointly with neighboring components. Space correlation calculation might be unreliable.\n",
      "WARNING:root:Component 7 is only active jointly with neighboring components. Space correlation calculation might be unreliable.\n",
      "WARNING:root:Component 41 is only active jointly with neighboring components. Space correlation calculation might be unreliable.\n",
      "WARNING:root:Component 13 is only active jointly with neighboring components. Space correlation calculation might be unreliable.\n",
      "WARNING:root:Component 16 is only active jointly with neighboring components. Space correlation calculation might be unreliable.\n",
      "WARNING:root:Component 23 is only active jointly with neighboring components. Space correlation calculation might be unreliable.\n",
      "WARNING:root:Component 35 is only active jointly with neighboring components. Space correlation calculation might be unreliable.\n",
      "WARNING:root:Component 22 is only active jointly with neighboring components. Space correlation calculation might be unreliable.\n",
      "WARNING:root:Component 27 is only active jointly with neighboring components. Space correlation calculation might be unreliable.\n",
      "WARNING:root:Component 41 is only active jointly with neighboring components. Space correlation calculation might be unreliable.\n",
      "WARNING:root:Component 21 is only active jointly with neighboring components. Space correlation calculation might be unreliable.\n",
      "WARNING:root:Component 35 is only active jointly with neighboring components. Space correlation calculation might be unreliable.\n",
      "WARNING:root:Component 27 is only active jointly with neighboring components. Space correlation calculation might be unreliable.\n",
      "WARNING:root:Component 22 is only active jointly with neighboring components. Space correlation calculation might be unreliable.\n",
      "WARNING:root:Component 24 is only active jointly with neighboring components. Space correlation calculation might be unreliable.\n",
      "WARNING:root:Component 23 is only active jointly with neighboring components. Space correlation calculation might be unreliable.\n",
      "WARNING:root:Component 11 is only active jointly with neighboring components. Space correlation calculation might be unreliable.\n",
      "WARNING:root:Component 38 is only active jointly with neighboring components. Space correlation calculation might be unreliable.\n",
      "WARNING:root:Component 19 is only active jointly with neighboring components. Space correlation calculation might be unreliable.\n",
      "WARNING:root:Component 31 is only active jointly with neighboring components. Space correlation calculation might be unreliable.\n",
      "WARNING:root:Component 24 is only active jointly with neighboring components. Space correlation calculation might be unreliable.\n",
      "WARNING:root:Component 28 is only active jointly with neighboring components. Space correlation calculation might be unreliable.\n",
      "WARNING:root:Component 45 is only active jointly with neighboring components. Space correlation calculation might be unreliable.\n",
      "WARNING:root:Component 2 is only active jointly with neighboring components. Space correlation calculation might be unreliable.\n",
      "WARNING:root:Component 12 is only active jointly with neighboring components. Space correlation calculation might be unreliable.\n",
      "WARNING:root:Component 25 is only active jointly with neighboring components. Space correlation calculation might be unreliable.\n",
      "WARNING:root:Component 9 is only active jointly with neighboring components. Space correlation calculation might be unreliable.\n",
      "WARNING:root:Component 11 is only active jointly with neighboring components. Space correlation calculation might be unreliable.\n",
      "WARNING:root:Component 22 is only active jointly with neighboring components. Space correlation calculation might be unreliable.\n",
      "WARNING:root:Component 32 is only active jointly with neighboring components. Space correlation calculation might be unreliable.\n",
      "WARNING:root:Component 11 is only active jointly with neighboring components. Space correlation calculation might be unreliable.\n",
      "WARNING:root:Component 16 is only active jointly with neighboring components. Space correlation calculation might be unreliable.\n",
      "WARNING:root:Component 26 is only active jointly with neighboring components. Space correlation calculation might be unreliable.\n",
      "WARNING:root:Component 32 is only active jointly with neighboring components. Space correlation calculation might be unreliable.\n",
      "WARNING:root:Component 33 is only active jointly with neighboring components. Space correlation calculation might be unreliable.\n",
      "WARNING:root:Component 44 is only active jointly with neighboring components. Space correlation calculation might be unreliable.\n",
      "WARNING:root:Component 46 is only active jointly with neighboring components. Space correlation calculation might be unreliable.\n",
      "WARNING:root:Component 47 is only active jointly with neighboring components. Space correlation calculation might be unreliable.\n",
      "WARNING:root:Component 11 is only active jointly with neighboring components. Space correlation calculation might be unreliable.\n",
      "WARNING:root:Component 11 is only active jointly with neighboring components. Space correlation calculation might be unreliable.\n",
      "WARNING:root:Component 20 is only active jointly with neighboring components. Space correlation calculation might be unreliable.\n",
      "WARNING:root:Component 25 is only active jointly with neighboring components. Space correlation calculation might be unreliable.\n",
      "WARNING:root:Component 47 is only active jointly with neighboring components. Space correlation calculation might be unreliable.\n",
      "WARNING:root:Component 16 is only active jointly with neighboring components. Space correlation calculation might be unreliable.\n",
      "WARNING:root:Component 33 is only active jointly with neighboring components. Space correlation calculation might be unreliable.\n",
      "WARNING:root:Component 42 is only active jointly with neighboring components. Space correlation calculation might be unreliable.\n",
      "WARNING:root:Component 9 is only active jointly with neighboring components. Space correlation calculation might be unreliable.\n",
      "WARNING:root:Component 29 is only active jointly with neighboring components. Space correlation calculation might be unreliable.\n",
      "WARNING:root:Component 14 is only active jointly with neighboring components. Space correlation calculation might be unreliable.\n",
      "WARNING:root:Component 33 is only active jointly with neighboring components. Space correlation calculation might be unreliable.\n",
      "WARNING:root:Component 22 is only active jointly with neighboring components. Space correlation calculation might be unreliable.\n",
      "WARNING:root:Component 30 is only active jointly with neighboring components. Space correlation calculation might be unreliable.\n",
      "WARNING:root:Component 23 is only active jointly with neighboring components. Space correlation calculation might be unreliable.\n"
     ]
    },
    {
     "name": "stdout",
     "output_type": "stream",
     "text": [
      "GPU run not requested, disabling use of GPUs\n",
      "USING MODEL (keras API): C:\\Users\\sangeetha\\caiman_data\\model\\cnn_model.json\n",
      "51/51 [==============================] - 1s 13ms/step\n"
     ]
    }
   ],
   "source": [
    "cnmf_refit.estimates.evaluate_components(images, cnmf_refit.params);\n"
   ]
  },
  {
   "cell_type": "code",
   "execution_count": 12,
   "metadata": {},
   "outputs": [
    {
     "name": "stdout",
     "output_type": "stream",
     "text": [
      "Num accepted/rejected: 59, 1569\n"
     ]
    }
   ],
   "source": [
    "print(f\"Num accepted/rejected: {len(cnmf_refit.estimates.idx_components)}, {len(cnmf_refit.estimates.idx_components_bad)}\")"
   ]
  },
  {
   "cell_type": "code",
   "execution_count": 13,
   "metadata": {},
   "outputs": [],
   "source": [
    "cnmf_refit.estimates.plot_contours_nb(img=correlation_image, \n",
    "                                      idx=cnmf_refit.estimates.idx_components);"
   ]
  },
  {
   "cell_type": "code",
   "execution_count": 16,
   "metadata": {},
   "outputs": [],
   "source": [
    "cnmf_refit.estimates.nb_view_components(img=correlation_image, \n",
    "                                        idx=cnmf_refit.estimates.idx_components,\n",
    "                                        cmap='gray',\n",
    "                                        denoised_color='red');"
   ]
  },
  {
   "cell_type": "code",
   "execution_count": 15,
   "metadata": {},
   "outputs": [
    {
     "data": {
      "text/plain": [
       "<caiman.source_extraction.cnmf.estimates.Estimates at 0x2d590548c40>"
      ]
     },
     "execution_count": 15,
     "metadata": {},
     "output_type": "execute_result"
    }
   ],
   "source": [
    "cnmf_refit.estimates.nb_view_components(img=correlation_image, \n",
    "                                        idx=cnmf_refit.estimates.idx_components_bad, \n",
    "                                        cmap='gray',\n",
    "                                        denoised_color='red')"
   ]
  },
  {
   "cell_type": "markdown",
   "metadata": {},
   "source": [
    "delta F/F"
   ]
  },
  {
   "cell_type": "code",
   "execution_count": 17,
   "metadata": {},
   "outputs": [],
   "source": [
    "cnmf_refit.estimates.detrend_df_f(quantileMin=8, \n",
    "                                    frames_window=250,\n",
    "                                    flag_auto=False,\n",
    "                                    use_residuals=False); "
   ]
  },
  {
   "cell_type": "code",
   "execution_count": null,
   "metadata": {},
   "outputs": [],
   "source": [
    "cnmf_refit.estimates.nb_view_components(img=correlation_image, \n",
    "                                        idx=cnmf_refit.estimates.idx_components,\n",
    "                                        cmap='gray',\n",
    "                                        denoised_color='red');"
   ]
  },
  {
   "cell_type": "code",
   "execution_count": 20,
   "metadata": {},
   "outputs": [],
   "source": [
    "frame_rate = cnmf_refit.params.data['fr']\n",
    "frame_pd = 1/frame_rate\n",
    "frame_times = np.linspace(0, num_frames*frame_pd, num_frames);"
   ]
  },
  {
   "cell_type": "code",
   "execution_count": 23,
   "metadata": {},
   "outputs": [
    {
     "data": {
      "application/vnd.jupyter.widget-view+json": {
       "model_id": "b71fe5cc03744b129d506876858a4dd2",
       "version_major": 2,
       "version_minor": 0
      },
      "image/png": "[encoded data removed]",
      "text/html": [
       "\n",
       "            <div style=\"display: inline-block;\">\n",
       "                <div class=\"jupyter-widgets widget-label\" style=\"text-align: center;\">\n",
       "                    Figure\n",
       "                </div>\n",
       "                <img src='data:image/png;base64,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' width=700.0/>\n",
       "            </div>\n",
       "        "
      ],
      "text/plain": [
       "Canvas(toolbar=Toolbar(toolitems=[('Home', 'Reset original view', 'home', 'home'), ('Back', 'Back to previous …"
      ]
     },
     "metadata": {},
     "output_type": "display_data"
    }
   ],
   "source": [
    "idx_to_plot = 30\n",
    "idx_accepted = cnmf_refit.estimates.idx_components\n",
    "component_number = idx_accepted[idx_to_plot]\n",
    "f, ax = plt.subplots(figsize=(7,2))\n",
    "ax.plot(frame_times, \n",
    "        cnmf_refit.estimates.F_dff[component_number, :], \n",
    "        linewidth=0.5,\n",
    "        color='k');\n",
    "ax.set_xlabel('Time (s)')\n",
    "ax.set_ylabel('$\\Delta F/F$')\n",
    "ax.set_title(f\"$\\Delta F/F$ for unit {component_number}\");\n",
    "plt.tight_layout()"
   ]
  }
 ],
 "metadata": {
  "kernelspec": {
   "display_name": "caiman",
   "language": "python",
   "name": "python3"
  },
  "language_info": {
   "codemirror_mode": {
    "name": "ipython",
    "version": 3
   },
   "file_extension": ".py",
   "mimetype": "text/x-python",
   "name": "python",
   "nbconvert_exporter": "python",
   "pygments_lexer": "ipython3",
   "version": "3.10.8"
  }
 },
 "nbformat": 4,
 "nbformat_minor": 2
}
