{
 "cells": [
  {
   "cell_type": "code",
   "execution_count": null,
   "metadata": {},
   "outputs": [],
   "source": [
    "import numpy as np\n",
    "import matplotlib.pyplot as plt\n",
    "from tifffile import TiffFile, imread, TiffWriter\n",
    "from lxml import etree\n",
    "import json"
   ]
  },
  {
   "cell_type": "markdown",
   "metadata": {},
   "source": [
    "# Basics of Numpy and TIFF File Management\n",
    "\n",
    "`numpy` is one of the libraries used by CaImAn to handle images and movies in form of numerical arrays. `tifffile` library is useful to handle a popular data format used to store calcium imaging data. In this notebook, we learn basics of `numpy` and `tifffile`.\n",
    "\n",
    "**Learning Outcomes**\n",
    "\n",
    "1. Fundamentals of handling images as `numpy` arrays\n",
    "2. Data and metadata handling with `tifffile`\n",
    "\n",
    "\n",
    "## How can we store image data as a `numpy` array?\n",
    "\n",
    "**Learning Outcomes**\n",
    "1. Creating single and multiple frames of data\n",
    "2. Plotting the frames\n",
    "\n",
    "**Example** Create a 3x3 frame where the middle pixel has value of 1 and the rest have 0"
   ]
  },
  {
   "cell_type": "code",
   "execution_count": null,
   "metadata": {},
   "outputs": [],
   "source": [
    "frame = np.array(\n",
    "    [\n",
    "        [0, 0, 0],\n",
    "        [0, 1, 0],\n",
    "        [0, 0 ,0]\n",
    "    ]\n",
    ")\n",
    "plt.imshow(frame, cmap='gray');"
   ]
  },
  {
   "cell_type": "markdown",
   "metadata": {},
   "source": [
    "Create a 3x3 frame where the top left corner has value of 1 and the rest are 0"
   ]
  },
  {
   "cell_type": "code",
   "execution_count": null,
   "metadata": {},
   "outputs": [],
   "source": [
    "frame = np.array(\n",
    "    [\n",
    "        [1, 0, 0],\n",
    "        [0, 0, 0],\n",
    "        [0, 0 ,0]\n",
    "    ]\n",
    ")\n",
    "plt.imshow(frame, cmap='gray');"
   ]
  },
  {
   "cell_type": "markdown",
   "metadata": {},
   "source": [
    "Create a 3x3 frame where all the corners has value of 1, center pixel has a value of 0.5, and the rest are 0"
   ]
  },
  {
   "cell_type": "code",
   "execution_count": null,
   "metadata": {},
   "outputs": [],
   "source": [
    "frame = np.array(\n",
    "    [\n",
    "        [1, 0, 1],\n",
    "        [0, 0.5, 0],\n",
    "        [1, 0 ,1]\n",
    "    ]\n",
    ")\n",
    "plt.imshow(frame, cmap='gray');"
   ]
  },
  {
   "cell_type": "markdown",
   "metadata": {},
   "source": [
    "Create a 3x3 frame where the pixels have any value you want them to be!"
   ]
  },
  {
   "cell_type": "code",
   "execution_count": null,
   "metadata": {},
   "outputs": [],
   "source": [
    "frame = np.array(\n",
    "    [\n",
    "        [0.1, -0.5, 1],\n",
    "        [1.5, 0.5, 10],\n",
    "        [-2.0, 0 ,1]\n",
    "    ]\n",
    ")\n",
    "plt.imshow(frame, cmap='gray');"
   ]
  },
  {
   "cell_type": "markdown",
   "metadata": {},
   "source": [
    "**Example** Create 2 frames where the first frame has value of 1 in central pixel and the second frame has all pixels as 0. What does the shape of the movie generated from the two frames indicate?"
   ]
  },
  {
   "cell_type": "code",
   "execution_count": null,
   "metadata": {},
   "outputs": [],
   "source": [
    "frame1 = np.array(\n",
    "    [\n",
    "        [0, 0, 0],\n",
    "        [0, 1, 0],\n",
    "        [0, 0 ,0]\n",
    "    ]\n",
    ")\n",
    "\n",
    "frame2 = np.array(\n",
    "    [\n",
    "        [0, 0, 0],\n",
    "        [0, 0, 0],\n",
    "        [0, 0 ,0]\n",
    "    ]\n",
    ")\n",
    "\n",
    "movie = np.array(\n",
    "    [\n",
    "        frame1,\n",
    "        frame2\n",
    "    ]\n",
    ")\n",
    "\n",
    "movie.shape"
   ]
  },
  {
   "cell_type": "markdown",
   "metadata": {},
   "source": [
    "Create 2 frames each 2x2 where the \n",
    "\n",
    "1. first frame has value of 1 in top left pixel\n",
    "2. second frame has a value of -1 in top left pixel\n",
    "\n",
    "Can you predict the shape of this movie?"
   ]
  },
  {
   "cell_type": "code",
   "execution_count": null,
   "metadata": {},
   "outputs": [],
   "source": [
    "frame1 = np.array(\n",
    "    [\n",
    "        [1, 0],\n",
    "        [0, 0],\n",
    "    ]\n",
    ")\n",
    "\n",
    "frame2 = np.array(\n",
    "    [\n",
    "        [0, 0],\n",
    "        [0, -1],\n",
    "    ]\n",
    ")\n",
    "\n",
    "movie = np.array(\n",
    "    [\n",
    "        frame1,\n",
    "        frame2\n",
    "    ]\n",
    ")\n",
    "\n",
    "movie.shape"
   ]
  },
  {
   "cell_type": "markdown",
   "metadata": {},
   "source": [
    "Let's do one more before we move on to the next topic! \n",
    "Create a sequence of four 3x2 frames where:\n",
    "\n",
    "1. The first frame is entirely zeros.\n",
    "2. The second frame has a value of 1 in the top-left corner.\n",
    "3. The third frame retains the value of 1 in the top-left corner and adds a value of 1 in the center.\n",
    "4. The fourth frame keeps the previous values unchanged."
   ]
  },
  {
   "cell_type": "code",
   "execution_count": null,
   "metadata": {},
   "outputs": [],
   "source": [
    "frame_1 = [\n",
    "        [0, 0],\n",
    "        [0, 0],\n",
    "        [0, 0]\n",
    "        ]\n",
    "\n",
    "frame_2 = [\n",
    "        [1, 0],\n",
    "        [0, 0],\n",
    "        [0, 0]\n",
    "        ]\n",
    "\n",
    "frame_3 = [\n",
    "        [1, 0],\n",
    "        [0, 1],\n",
    "        [0, 0]\n",
    "        ]\n",
    "\n",
    "frame_4 = [\n",
    "        [1, 0],\n",
    "        [0, 1],\n",
    "        [0, 0]\n",
    "        ]\n",
    "\n",
    "movie = np.array(\n",
    "    [frame_1,\n",
    "    frame_2,\n",
    "    frame_3,\n",
    "    frame_4]\n",
    ")\n",
    "\n",
    "movie.shape"
   ]
  },
  {
   "cell_type": "markdown",
   "metadata": {},
   "source": [
    "## TIFF File \n",
    "\n",
    "**Learning Outcomes**\n",
    "Reading and writing TIFF File\n",
    "\n",
    "**Example** Read `data_endoscope.tif`. How many frames does it have?"
   ]
  },
  {
   "cell_type": "code",
   "execution_count": null,
   "metadata": {},
   "outputs": [],
   "source": [
    "frames = imread('../data/data_endoscope.tif')\n",
    "frames.shape"
   ]
  },
  {
   "cell_type": "markdown",
   "metadata": {},
   "source": [
    "Read `Sue_2x_3000_40_-46.tif`. How many frames does this data have?"
   ]
  },
  {
   "cell_type": "code",
   "execution_count": null,
   "metadata": {},
   "outputs": [],
   "source": [
    "frames = imread('../data/Sue_2x_3000_40_-46.tif')\n",
    "frames.shape"
   ]
  },
  {
   "cell_type": "markdown",
   "metadata": {},
   "source": [
    "Read `Sue_2x_3000_40_-46.tif`. How long does it take?\n",
    "\n",
    "Hint: Put `%%timeit` in the beginning of the cell"
   ]
  },
  {
   "cell_type": "code",
   "execution_count": null,
   "metadata": {},
   "outputs": [],
   "source": [
    "%%timeit\n",
    "frames = imread('../data/Sue_2x_3000_40_-46.tif')"
   ]
  },
  {
   "cell_type": "markdown",
   "metadata": {},
   "source": [
    "**Example** Read only the first 3 frames from `Sue_2x_3000_40_-46.tif`"
   ]
  },
  {
   "cell_type": "code",
   "execution_count": null,
   "metadata": {},
   "outputs": [],
   "source": [
    "frames = imread('../data/Sue_2x_3000_40_-46.tif', key=(0, 1, 2))\n",
    "frames.shape"
   ]
  },
  {
   "cell_type": "markdown",
   "metadata": {},
   "source": [
    "Read only 1, 3, 5, 7, 9th frame from `Sue_2x_3000_40_-46.tif`"
   ]
  },
  {
   "cell_type": "code",
   "execution_count": null,
   "metadata": {},
   "outputs": [],
   "source": [
    "frames = imread('../data/Sue_2x_3000_40_-46.tif', key=(0, 2, 4, 6, 8))\n",
    "frames.shape"
   ]
  },
  {
   "cell_type": "markdown",
   "metadata": {},
   "source": [
    "Read only first 100 frames from `Sue_2x_3000_40_-46.tif`\n",
    "\n",
    "Hint: use range(0, 100)"
   ]
  },
  {
   "cell_type": "code",
   "execution_count": null,
   "metadata": {},
   "outputs": [],
   "source": [
    "frames = imread('../data/Sue_2x_3000_40_-46.tif', key=range(0, 100))\n",
    "frames.shape"
   ]
  },
  {
   "cell_type": "markdown",
   "metadata": {},
   "source": [
    "**Example** Read `data_endoscope.tif` with `TiffFile`?"
   ]
  },
  {
   "cell_type": "code",
   "execution_count": null,
   "metadata": {},
   "outputs": [],
   "source": [
    "f = TiffFile('../data/data_endoscope.tif')\n",
    "frames = np.array([page.asarray() for page in f.pages])"
   ]
  },
  {
   "cell_type": "markdown",
   "metadata": {},
   "source": [
    "Read `Sue_2x_3000_40_-46.tif` with TiffFile"
   ]
  },
  {
   "cell_type": "code",
   "execution_count": null,
   "metadata": {},
   "outputs": [],
   "source": [
    "f = TiffFile('../data/Sue_2x_3000_40_-46.tif')\n",
    "frames = np.array([page.asarray() for page in f.pages])"
   ]
  },
  {
   "cell_type": "markdown",
   "metadata": {},
   "source": [
    "How long does it take to read `Sue_2x_3000_40_-46.tif` with TiffFile?"
   ]
  },
  {
   "cell_type": "code",
   "execution_count": null,
   "metadata": {},
   "outputs": [],
   "source": [
    "%%timeit\n",
    "f = TiffFile('../data/Sue_2x_3000_40_-46.tif')\n",
    "frames = np.array([page.asarray() for page in f.pages])"
   ]
  },
  {
   "cell_type": "markdown",
   "metadata": {},
   "source": [
    "Comparing time taken to read and access tiff file data using `imread` and `TiffFile`"
   ]
  },
  {
   "cell_type": "code",
   "execution_count": null,
   "metadata": {},
   "outputs": [],
   "source": [
    "%%timeit\n",
    "tiff_full = imread('../data/data_endoscope.tif')\n",
    "tiff_full[-1]"
   ]
  },
  {
   "cell_type": "code",
   "execution_count": null,
   "metadata": {},
   "outputs": [],
   "source": [
    "%%timeit\n",
    "f = TiffFile(\"../data/data_endoscope.tif\") \n",
    "f.pages[-1].asarray()"
   ]
  },
  {
   "cell_type": "markdown",
   "metadata": {},
   "source": [
    "## TIFF File Metadata Handling\n",
    "\n",
    "**Learning Outcomes**\n",
    "Reading and writing metadata into a TIFF File\n",
    "\n",
    "**Example** Read metadata from the first frame of `data_endoscope.tif`"
   ]
  },
  {
   "cell_type": "code",
   "execution_count": null,
   "metadata": {},
   "outputs": [],
   "source": [
    "f = TiffFile('../data/data_endoscope.tif')\n",
    "tags = f.pages[0].tags\n",
    "for tag in tags:\n",
    "    print(f'{tag.name}: {tag.value}')"
   ]
  },
  {
   "cell_type": "markdown",
   "metadata": {},
   "source": [
    "Read metadata from the 50th frame of `data_endoscope.tif`. Is it the same as the first frame?"
   ]
  },
  {
   "cell_type": "code",
   "execution_count": null,
   "metadata": {},
   "outputs": [],
   "source": [
    "f = TiffFile('../data/data_endoscope.tif')\n",
    "tags = f.pages[49].tags\n",
    "for tag in tags:\n",
    "    print(f'{tag.name}: {tag.value}')"
   ]
  },
  {
   "cell_type": "markdown",
   "metadata": {},
   "source": [
    "Read metadata from the last frame of `data_endoscope.tif`. Is it the same as the first frame?"
   ]
  },
  {
   "cell_type": "code",
   "execution_count": null,
   "metadata": {},
   "outputs": [],
   "source": [
    "f = TiffFile('../data/data_endoscope.tif')\n",
    "tags = f.pages[-1].tags\n",
    "for tag in tags:\n",
    "    print(f'{tag.name}: {tag.value}')"
   ]
  },
  {
   "cell_type": "markdown",
   "metadata": {},
   "source": [
    "**Example** Add `frame_rate` = 10 to `data_endoscope.tif` all frames and write a new TIFF File"
   ]
  },
  {
   "cell_type": "code",
   "execution_count": null,
   "metadata": {},
   "outputs": [],
   "source": [
    "f = TiffFile('../data/data_endoscope.tif')\n",
    "description = {\n",
    "    'frame_rate': 10\n",
    "}\n",
    "\n",
    "new_description = json.dumps(description)\n",
    "\n",
    "with TiffWriter('../data/modified_tiff_file.tif') as out_tif:\n",
    "    for frame in frames:\n",
    "        out_tif.save(frame, description=new_description, metadata=None)"
   ]
  },
  {
   "cell_type": "code",
   "execution_count": null,
   "metadata": {},
   "outputs": [],
   "source": [
    "with TiffFile('../data/modified_tiff_file.tif') as tif:\n",
    "    page = tif.pages[0]\n",
    "    for tag in page.tags:\n",
    "        print(f\"{tag.name}: {tag.value}\")"
   ]
  },
  {
   "cell_type": "markdown",
   "metadata": {},
   "source": [
    "Add `decay_time` = 0.1 to `data_endoscope.tif` all frames and write a new TIFF File"
   ]
  },
  {
   "cell_type": "code",
   "execution_count": null,
   "metadata": {},
   "outputs": [],
   "source": [
    "f = TiffFile('../data/data_endoscope.tif')\n",
    "description = {\n",
    "    'decay_time': 0.1\n",
    "}\n",
    "\n",
    "new_description = json.dumps(description)\n",
    "\n",
    "with TiffWriter('../data/modified_tiff_file_1.tif') as out_tif:\n",
    "    for frame in frames:\n",
    "        out_tif.save(frame, description=new_description, metadata=None)"
   ]
  },
  {
   "cell_type": "markdown",
   "metadata": {},
   "source": [
    "Add `decay_time` = 0.1 and `frame_rate`=10 to `data_endoscope.tif` all frames and write a new TIFF File"
   ]
  },
  {
   "cell_type": "code",
   "execution_count": null,
   "metadata": {},
   "outputs": [],
   "source": [
    "f = TiffFile('../data/data_endoscope.tif')\n",
    "description = {\n",
    "    'decay_time': 0.1,\n",
    "    'frame_rate': 10\n",
    "}\n",
    "\n",
    "new_description = json.dumps(description)\n",
    "\n",
    "with TiffWriter('../data/modified_tiff_file_1.tif') as out_tif:\n",
    "    for frame in frames:\n",
    "        out_tif.save(frame, description=new_description, metadata=None)"
   ]
  },
  {
   "cell_type": "markdown",
   "metadata": {},
   "source": [
    "## OME Data\n",
    "\n",
    "**Learning Outcomes**\n",
    "Opening and accessing OME metadata\n",
    "\n",
    "**Example** Read multifile-Z2.ome.tiff metadata"
   ]
  },
  {
   "cell_type": "code",
   "execution_count": null,
   "metadata": {},
   "outputs": [],
   "source": [
    "ome_file = \"../data/multifile-Z2.ome.tiff\"\n",
    "f = TiffFile(ome_file)\n",
    "metadata = tif.ome_metadata\n",
    "metadata"
   ]
  },
  {
   "cell_type": "markdown",
   "metadata": {},
   "source": [
    "Read multifile-Z3.ome.tiff metadata"
   ]
  },
  {
   "cell_type": "code",
   "execution_count": null,
   "metadata": {},
   "outputs": [],
   "source": [
    "ome_file = \"../data/multifile-Z3.ome.tiff\"\n",
    "f = TiffFile(ome_file)\n",
    "metadata = tif.ome_metadata\n",
    "metadata"
   ]
  },
  {
   "cell_type": "markdown",
   "metadata": {},
   "source": [
    "**Example** Read multifile-Z3.ome.tiff metadata and write it to a file. "
   ]
  },
  {
   "cell_type": "code",
   "execution_count": null,
   "metadata": {},
   "outputs": [],
   "source": [
    "ome_file = \"../data/multifile-Z3.ome.tiff\"\n",
    "f = TiffFile(ome_file)\n",
    "metadata = tif.ome_metadata\n",
    "\n",
    "f_write = open('metadata.xml', 'w')\n",
    "f_write.write(metadata);"
   ]
  },
  {
   "cell_type": "markdown",
   "metadata": {},
   "source": [
    "Read multifile-Z1.ome.tiff metadata and write it to a file. Open the file and see how it looks like"
   ]
  },
  {
   "cell_type": "code",
   "execution_count": null,
   "metadata": {},
   "outputs": [],
   "source": [
    "ome_file = \"../data/multifile-Z1.ome.tiff\"\n",
    "f = TiffFile(ome_file)\n",
    "metadata = tif.ome_metadata\n",
    "\n",
    "f_write = open('metadata.xml', 'w')\n",
    "f_write.write(metadata);"
   ]
  },
  {
   "cell_type": "markdown",
   "metadata": {},
   "source": [
    "Read multifile-Z1.ome.tiff metadata, make it look pretty, and write it to a file\n",
    "\n",
    "Hint:\n",
    "Use\n",
    "```python\n",
    "dom = xml.dom.minidom.parseString(metadata)\n",
    "pretty_xml_str_ib = dom.toprettyxml()\n",
    "```\n",
    "\n",
    "and write that to a file named `pretty_metadata.xml`"
   ]
  },
  {
   "cell_type": "code",
   "execution_count": null,
   "metadata": {},
   "outputs": [],
   "source": [
    "ome_file = \"../data/multifile-Z1.ome.tiff\"\n",
    "f = TiffFile(ome_file)\n",
    "metadata = tif.ome_metadata\n",
    "\n",
    "xml_root = etree.fromstring(metadata.encode('utf-8'))\n",
    "pretty_xml_str = etree.tostring(xml_root, pretty_print=True, encoding='unicode')\n",
    "pretty_xml_str\n",
    "\n",
    "f_write = open('pretty_metadata7.xml', 'w')\n",
    "f_write.write(pretty_xml_str);"
   ]
  }
 ],
 "metadata": {
  "kernelspec": {
   "display_name": "caiman",
   "language": "python",
   "name": "python3"
  },
  "language_info": {
   "codemirror_mode": {
    "name": "ipython",
    "version": 3
   },
   "file_extension": ".py",
   "mimetype": "text/x-python",
   "name": "python",
   "nbconvert_exporter": "python",
   "pygments_lexer": "ipython3",
   "version": "3.10.8"
  }
 },
 "nbformat": 4,
 "nbformat_minor": 2
}
