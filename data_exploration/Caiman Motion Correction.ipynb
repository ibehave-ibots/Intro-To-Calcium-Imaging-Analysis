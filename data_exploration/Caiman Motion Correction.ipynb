{
 "cells": [
  {
   "cell_type": "code",
   "execution_count": null,
   "metadata": {},
   "outputs": [],
   "source": [
    "import numpy as np\n",
    "import caiman as cm\n",
    "from caiman.motion_correction import MotionCorrect\n",
    "import matplotlib.pyplot as plt"
   ]
  },
  {
   "cell_type": "code",
   "execution_count": null,
   "metadata": {},
   "outputs": [],
   "source": [
    "# Loading movie\n",
    "movie = cm.load('../data/Sue_2x_3000_40_-46.tif')\n",
    "movie.play()"
   ]
  },
  {
   "cell_type": "code",
   "execution_count": null,
   "metadata": {},
   "outputs": [],
   "source": [
    "mc = MotionCorrect(movie)\n",
    "m_els = mc.motion_correct(save_movie=True)\n",
    "m_rig = cm.load(mc.mmap_file)\n",
    "m_rig.play()"
   ]
  },
  {
   "cell_type": "code",
   "execution_count": null,
   "metadata": {},
   "outputs": [],
   "source": [
    "#%% plot rigid shifts\n",
    "plt.close()\n",
    "plt.figure(figsize = (20,10))\n",
    "plt.plot(mc.shifts_rig)\n",
    "plt.legend(['x shifts','y shifts'])\n",
    "plt.xlabel('frames')\n",
    "plt.ylabel('pixels');"
   ]
  },
  {
   "cell_type": "code",
   "execution_count": null,
   "metadata": {},
   "outputs": [],
   "source": [
    "# Loading movie\n",
    "movie = cm.load('../data/Raw_LH_LepR_nVoke.tiff')\n",
    "movie.play()"
   ]
  },
  {
   "cell_type": "code",
   "execution_count": null,
   "metadata": {},
   "outputs": [],
   "source": [
    "mc = MotionCorrect(movie)\n",
    "m_els = mc.motion_correct(save_movie=True)\n",
    "m_rig = cm.load(mc.mmap_file)\n",
    "m_rig.play()"
   ]
  },
  {
   "cell_type": "code",
   "execution_count": null,
   "metadata": {},
   "outputs": [],
   "source": [
    "#%% plot rigid shifts\n",
    "plt.close()\n",
    "plt.figure(figsize = (20,10))\n",
    "plt.plot(mc.shifts_rig)\n",
    "plt.legend(['x shifts','y shifts'])\n",
    "plt.xlabel('frames')\n",
    "plt.ylabel('pixels');"
   ]
  },
  {
   "cell_type": "code",
   "execution_count": null,
   "metadata": {},
   "outputs": [],
   "source": [
    "mc = MotionCorrect(\n",
    "    movie,\n",
    "    max_shifts=(20,20)\n",
    "    )\n",
    "m_els = mc.motion_correct(save_movie=True)\n",
    "m_rig = cm.load(mc.mmap_file)\n",
    "m_rig.play()"
   ]
  },
  {
   "cell_type": "code",
   "execution_count": null,
   "metadata": {},
   "outputs": [],
   "source": [
    "#%% plot rigid shifts\n",
    "plt.close()\n",
    "plt.figure(figsize = (20,10))\n",
    "plt.plot(mc.shifts_rig)\n",
    "plt.legend(['x shifts','y shifts'])\n",
    "plt.xlabel('frames')\n",
    "plt.ylabel('pixels');"
   ]
  },
  {
   "cell_type": "code",
   "execution_count": null,
   "metadata": {},
   "outputs": [],
   "source": [
    "MotionCorrect?\n"
   ]
  },
  {
   "cell_type": "code",
   "execution_count": null,
   "metadata": {},
   "outputs": [],
   "source": [
    "mc = MotionCorrect(\n",
    "    movie,\n",
    "    max_shifts=(1, 1)\n",
    "    )\n",
    "m_els = mc.motion_correct(save_movie=True)\n",
    "m_rig = cm.load(mc.mmap_file)\n",
    "m_rig.play()"
   ]
  },
  {
   "cell_type": "code",
   "execution_count": null,
   "metadata": {},
   "outputs": [],
   "source": [
    "#%% plot rigid shifts\n",
    "plt.close()\n",
    "plt.figure(figsize = (20,10))\n",
    "plt.plot(mc.shifts_rig)\n",
    "plt.legend(['x shifts','y shifts'])\n",
    "plt.xlabel('frames')\n",
    "plt.ylabel('pixels');"
   ]
  }
 ],
 "metadata": {
  "kernelspec": {
   "display_name": "caiman",
   "language": "python",
   "name": "python3"
  },
  "language_info": {
   "codemirror_mode": {
    "name": "ipython",
    "version": 3
   },
   "file_extension": ".py",
   "mimetype": "text/x-python",
   "name": "python",
   "nbconvert_exporter": "python",
   "pygments_lexer": "ipython3",
   "version": "3.10.8"
  }
 },
 "nbformat": 4,
 "nbformat_minor": 2
}
