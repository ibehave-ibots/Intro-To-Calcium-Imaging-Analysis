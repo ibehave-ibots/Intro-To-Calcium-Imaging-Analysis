{
 "cells": [
  {
   "cell_type": "code",
   "execution_count": null,
   "metadata": {},
   "outputs": [],
   "source": [
    "# %pip install numpy matplotlib"
   ]
  },
  {
   "cell_type": "code",
   "execution_count": null,
   "metadata": {},
   "outputs": [],
   "source": [
    "import numpy as np\n",
    "import matplotlib.pyplot as plt"
   ]
  },
  {
   "cell_type": "markdown",
   "metadata": {},
   "source": [
    "## Image structure: Single/Multi-channel images\n",
    "\n",
    "Images in digital processing are represented as arrays of pixels, where each pixel can have one or more values associated with it. \n",
    "\n",
    "In a grayscale image, each pixel typically has a single value representing its intensity, ranging from black through various shades of gray to white. These images are considered single-channel because they contain only one layer of data per pixel.\n",
    "\n",
    "Color images often use multiple channels to represent the colors in an image, typically using the RGB (Red, Green, Blue) color model. Each pixel in an RGB image has three values associated with it, each representing the intensity of red, green, and blue. By combining these three channels, a wide range of colors can be produced. \n",
    "\n",
    "**Learning goals**\n",
    "1. Reading single and multi-channel images using `imread` and understanding the structure.\n",
    "2. Displaying the image and basic usage of colormaps, vmin, vmax\n",
    "\n",
    "\n",
    "| Method | Explanation |\n",
    "| ------ | ----------- |\n",
    "| `plt.imread(filepath)` | Reads an image from a file into an array. |\n",
    "| `image.shape` | Returns the dimensions of the image array, indicating height, width, and number of channels. |\n",
    "| `image.ndim` | Provides the number of dimensions in the image array (e.g., 2 for grayscale, 3 for RGB). |\n",
    "| `image.dtype` | Indicates the data type of the image array elements (e.g., uint8, float32). |\n",
    "| `plt.imshow(image)` | Displays an image from an array, with optional parameters like `cmap`, `vmin`, and `vmax`. |\n",
    "| `plt.colorbar()` | Adds a colorbar to the image plot to represent the color scale based on image intensity. |\n",
    "| `np.mean(image, axis=2)` | Calculates the mean across the specified axis (e.g., converting RGB to grayscale by averaging channels). |\n",
    "| `np.max(image, axis=2)` | Finds the maximum value across the specified axis, useful for channel manipulation or enhancement. |\n",
    "| `plt.hist(data.ravel(), bins=256)` | Plots a histogram of the flattened image data, analyzing the distribution of pixel intensities. |\n",
    "| `data.ravel()` | Flattens the image data into a 1D array, useful for statistical analysis or histogram plotting. |\n",
    "\n",
    "\n",
    "**Example** Read `img/image_1.png` and display its shape, number of dimensions, and dtype"
   ]
  },
  {
   "cell_type": "code",
   "execution_count": null,
   "metadata": {},
   "outputs": [],
   "source": [
    "image = plt.imread('img/image_1.png')\n",
    "image.shape, image.ndim, image.dtype"
   ]
  },
  {
   "cell_type": "markdown",
   "metadata": {},
   "source": [
    "Read `img/image_2.png` and display its shape, number of dimensions, and dtype"
   ]
  },
  {
   "cell_type": "code",
   "execution_count": null,
   "metadata": {},
   "outputs": [],
   "source": []
  },
  {
   "cell_type": "markdown",
   "metadata": {},
   "source": [
    "Read and display `img/example_color.png`. How is it different from image_2?"
   ]
  },
  {
   "cell_type": "code",
   "execution_count": null,
   "metadata": {},
   "outputs": [],
   "source": []
  },
  {
   "cell_type": "markdown",
   "metadata": {},
   "source": [
    "`example_color.png` has three dimensions. It is 4x5 pixels image. Additionally, it also has three channels (Red-R, Green-G, Blue-B) which is the 3 in (4, 5, 3). \n",
    "\n",
    "`image_2` is 3x3 pixels image and has only one channel. Multiple channels are used in creation of composite images. We will learn more about this in upcoming sections. Now let's learn how to display images.\n",
    "\n",
    "\n",
    "**Example** Read and display `img/image_1.png`"
   ]
  },
  {
   "cell_type": "code",
   "execution_count": null,
   "metadata": {},
   "outputs": [],
   "source": [
    "image = plt.imread('img/image_1.png')\n",
    "plt.imshow(image)"
   ]
  },
  {
   "cell_type": "markdown",
   "metadata": {},
   "source": [
    "`image_2.png` has an active pixel in same location as image_1.png. However, the intensity is lesser. Can you see the difference in intensity just by looking at the plot?\n",
    "\n",
    "Read and display `img/image_2.png`"
   ]
  },
  {
   "cell_type": "code",
   "execution_count": null,
   "metadata": {},
   "outputs": [],
   "source": []
  },
  {
   "cell_type": "markdown",
   "metadata": {},
   "source": [
    "Nope! \n",
    "\n",
    "Read and display `img/image_1.png` with a colorbar. What are the minimum and maximum values by looking at the colorbar?\n",
    "\n",
    "Hint: Use `plt.colorbar();`"
   ]
  },
  {
   "cell_type": "code",
   "execution_count": null,
   "metadata": {},
   "outputs": [],
   "source": []
  },
  {
   "cell_type": "markdown",
   "metadata": {},
   "source": [
    "Read and display `img/image_2.png` with a colorbar. What are the minimum and maximum values by looking at the colorbar? \n",
    "Now do you see the difference between the two images?"
   ]
  },
  {
   "cell_type": "code",
   "execution_count": null,
   "metadata": {},
   "outputs": [],
   "source": []
  },
  {
   "cell_type": "markdown",
   "metadata": {},
   "source": [
    "You can specify lower and upper bounds of colorbar by setting `vmin` and `vmax`. This can help with comparison\n",
    "\n",
    "Read and display `img/image_2.png` with a colorbar and set vmin to 0 and vmax to 1.\n",
    "\n",
    "Hint: plt.imshow(image, vmin=value_vmin, vmax=value_vmax)"
   ]
  },
  {
   "cell_type": "code",
   "execution_count": null,
   "metadata": {},
   "outputs": [],
   "source": []
  },
  {
   "cell_type": "markdown",
   "metadata": {},
   "source": [
    "Let's look at multi-channel images.\n",
    " \n",
    "How does `image_3.png` look like with a colorbar? Do you see something odd?"
   ]
  },
  {
   "cell_type": "code",
   "execution_count": null,
   "metadata": {},
   "outputs": [],
   "source": []
  },
  {
   "cell_type": "markdown",
   "metadata": {},
   "source": [
    "Try changing colormap to gray by setting cmap='gray' in plt.imshow(). Does this help?"
   ]
  },
  {
   "cell_type": "code",
   "execution_count": null,
   "metadata": {},
   "outputs": [],
   "source": []
  },
  {
   "cell_type": "markdown",
   "metadata": {},
   "source": [
    "When you load an image using `plt.imread` and then display it with `plt.imshow`, specifying `cmap='gray'` should display the image in grayscale, regardless of the image format (PNG, JPG, etc.). However, if the image naturally contains color information (e.g., RGB channels), Matplotlib will display the image in color if you do not explicitly convert it to grayscale.\n",
    "\n",
    "**Example** Convert image to grayscale by taking mean across all channels and display grayscale image with colorbar. \n",
    "\n",
    "Specifying axis=2 takes mean across all the channels"
   ]
  },
  {
   "cell_type": "code",
   "execution_count": null,
   "metadata": {},
   "outputs": [],
   "source": [
    "image = plt.imread('img/image_3.png')\n",
    "grayscale_image = np.mean(image, axis=2) # converting to grayscale by taking mean across all channels (axis=2)\n",
    "plt.imshow(grayscale_image, cmap='gray')\n",
    "plt.colorbar();"
   ]
  },
  {
   "cell_type": "markdown",
   "metadata": {},
   "source": [
    "You can also take max/min etc. However, mean is often preferred. Convert image to grayscale by taking maximum across all channels and display grayscale image with colorbar. "
   ]
  },
  {
   "cell_type": "code",
   "execution_count": null,
   "metadata": {},
   "outputs": [],
   "source": []
  },
  {
   "cell_type": "markdown",
   "metadata": {},
   "source": [
    "## Exploring image channels of a color image individually\n",
    "\n",
    "**Learning goals**\n",
    "1. Separating R, G, and B channels of an image.\n",
    "2. Intensity distribution visualization through histograms.\n",
    "3. (For fun) swapping channels\n",
    "\n",
    "For the section on separating channels, here's a markdown table summarizing the methods used along with one-line explanations:\n",
    "\n",
    "| Method | Explanation |\n",
    "| ------ | ----------- |\n",
    "| `plt.imread('path/to/image')` | Loads an image from the specified path into an array. |\n",
    "| `image[:,:,0]` | Extracts the first channel (red in an RGB image) from the image array. |\n",
    "| `plt.imshow(channel, cmap='gray')` | Displays a single channel (grayscale) image with a specified colormap. |\n",
    "| `np.zeros_like(image)` | Creates a zero array with the same shape and type as the given image, used to nullify color channels. |\n",
    "|`plt.hist(array)`| Plots histogram of an array |\n",
    "\n",
    "This table covers the basics of loading images, accessing and manipulating individual color channels, visualizing channels, and recombining channels into composite images.\n",
    "\n",
    "**Example** Plot only red channel of `img/image_3`\n",
    "\n",
    "`image_3` has values only in red channel and blue and green channels are 0."
   ]
  },
  {
   "cell_type": "code",
   "execution_count": null,
   "metadata": {},
   "outputs": [],
   "source": [
    "image = plt.imread('img/image_3.png')\n",
    "red_channel = image[:, :, 0]\n",
    "plt.imshow(red_channel, cmap='gray', vmin=0, vmax=1)\n",
    "plt.colorbar();"
   ]
  },
  {
   "cell_type": "markdown",
   "metadata": {},
   "source": [
    "Plot only green channel of `img/image_3`. Does it make sense? "
   ]
  },
  {
   "cell_type": "code",
   "execution_count": null,
   "metadata": {},
   "outputs": [],
   "source": []
  },
  {
   "cell_type": "markdown",
   "metadata": {},
   "source": [
    "Plot only blue channel of `img/image_3`. Does this look good?"
   ]
  },
  {
   "cell_type": "code",
   "execution_count": null,
   "metadata": {},
   "outputs": [],
   "source": []
  },
  {
   "cell_type": "markdown",
   "metadata": {},
   "source": [
    "Let's try with some 1-photon imaging data. Display only the red channel of `img/1p_maxproj.png` in grayscale."
   ]
  },
  {
   "cell_type": "code",
   "execution_count": null,
   "metadata": {},
   "outputs": [],
   "source": []
  },
  {
   "cell_type": "markdown",
   "metadata": {},
   "source": [
    "How does the green channel of `img/1p_maxproj.png` in grayscale look?"
   ]
  },
  {
   "cell_type": "code",
   "execution_count": null,
   "metadata": {},
   "outputs": [],
   "source": []
  },
  {
   "cell_type": "markdown",
   "metadata": {},
   "source": [
    "Display only the blue channel of `img/1p_maxproj.png` in grayscale"
   ]
  },
  {
   "cell_type": "code",
   "execution_count": null,
   "metadata": {},
   "outputs": [],
   "source": []
  },
  {
   "cell_type": "markdown",
   "metadata": {},
   "source": [
    "**Example** Plot histogram of values in the red channel"
   ]
  },
  {
   "cell_type": "code",
   "execution_count": null,
   "metadata": {},
   "outputs": [],
   "source": [
    "image = plt.imread('img/1p_maxproj.png')\n",
    "red_channel = image[:, :, 0]\n",
    "plt.hist(red_channel.ravel(), color='red')\n",
    "plt.xlim(0, 1);"
   ]
  },
  {
   "cell_type": "markdown",
   "metadata": {},
   "source": [
    "Plot histogram of values in the green channel"
   ]
  },
  {
   "cell_type": "code",
   "execution_count": null,
   "metadata": {},
   "outputs": [],
   "source": []
  },
  {
   "cell_type": "markdown",
   "metadata": {},
   "source": [
    "Plot histogram of values in the blue channel"
   ]
  },
  {
   "cell_type": "code",
   "execution_count": null,
   "metadata": {},
   "outputs": [],
   "source": []
  },
  {
   "cell_type": "markdown",
   "metadata": {},
   "source": [
    "**Example** For fun, let's swap red and green channels and visualize the image\n",
    "\n",
    "Red, Green, and Blue channels are stored in this order in the third dimension (axis) of the image. \n",
    "[0, 1, 2] represents red, green, and blue channels. To swap, we only have to change the order of the numbering in the third dimension of the image."
   ]
  },
  {
   "cell_type": "code",
   "execution_count": null,
   "metadata": {},
   "outputs": [],
   "source": [
    "image = plt.imread('img/1p_maxproj.png')\n",
    "swapped_image = image[:, :, [1, 0, 2]]  # Swap red and green\n",
    "plt.imshow(swapped_image)"
   ]
  },
  {
   "cell_type": "markdown",
   "metadata": {},
   "source": [
    "let's swap blue and green channels and visualize the image"
   ]
  },
  {
   "cell_type": "code",
   "execution_count": null,
   "metadata": {},
   "outputs": [],
   "source": []
  },
  {
   "cell_type": "markdown",
   "metadata": {},
   "source": [
    "let's swap red and blue channels and visualize the image"
   ]
  },
  {
   "cell_type": "code",
   "execution_count": null,
   "metadata": {},
   "outputs": [],
   "source": []
  },
  {
   "cell_type": "markdown",
   "metadata": {},
   "source": [
    "## Highlighting sections of image \n",
    "\n",
    "Cropping is a straightforward technique to isolate specific sections of an image. By selecting a subset of rows and columns, you can focus on areas of interest. This is especially useful in large images where details in smaller regions might be overlooked.\n",
    "\n",
    "The choice of colormap (cmap) and the use of vmin and vmax parameters affect the perception of image data. Different colormaps can highlight various features in the data. By adjusting vmin and vmax, you can control the range of data values mapped to the colormap, effectively highlighting specific intensity ranges or features within the image.\n",
    "\n",
    "**Learning goals**\n",
    "1. Cropping to zoom into section of an image by using array slicing.\n",
    "2. Making use of cmap, vmin, and vmax to highlight sections of images\n",
    "\n",
    "For the section on highlighting sections of images, here's a markdown table summarizing the methods used along with one-line explanations:\n",
    "\n",
    "| Method | Explanation |\n",
    "| ------ | ----------- |\n",
    "| `plt.imread(filepath)` | Reads an image from a file into an array. |\n",
    "| `image[row_start:row_end, col_start:col_end]` | Crops the image to include only a specified portion by rows and columns. |\n",
    "| `plt.imshow(image, cmap='X', vmin=Y, vmax=Z)` | Displays an image with a specified colormap (`'gray'`, `'jet'`, `'viridis'`) and intensity range using `vmin` and `vmax`. |\n",
    "| `np.mean(image, axis=2)` | Calculates the mean along the specified axis (used to convert to grayscale if the image is RGB). |\n",
    "| `np.percentile(data, N)` | Calculates the Nth percentile of the data, used to determine intensity thresholds for highlighting. |\n",
    "| `np.vstack([array]*N)` | Stacks an array N times vertically to create a 2D array from a 1D array, useful for visualization purposes. |"
   ]
  },
  {
   "cell_type": "markdown",
   "metadata": {},
   "source": [
    "**Example** Crop `img/1p_maxproj.png` to include only the portion from the 50th row to the last row, and include all columns."
   ]
  },
  {
   "cell_type": "code",
   "execution_count": null,
   "metadata": {},
   "outputs": [],
   "source": [
    "image = plt.imread('img/1p_maxproj.png')\n",
    "cropped_image = image[50:, :]  # Adjust indices as needed\n",
    "plt.imshow(cropped_image);"
   ]
  },
  {
   "cell_type": "markdown",
   "metadata": {},
   "source": [
    "Crop `img/1p_maxproj.png` to include only the portion from the 50th row to the 100th row, and include all columns."
   ]
  },
  {
   "cell_type": "code",
   "execution_count": null,
   "metadata": {},
   "outputs": [],
   "source": []
  },
  {
   "cell_type": "markdown",
   "metadata": {},
   "source": [
    "Crop `img/1p_maxproj.png` to include only the portion from the 50th to the 100th row and column."
   ]
  },
  {
   "cell_type": "code",
   "execution_count": null,
   "metadata": {},
   "outputs": [],
   "source": []
  },
  {
   "cell_type": "markdown",
   "metadata": {},
   "source": [
    "Choosing right kind of `cmap` help in getting most out of a visualization. On the downside, choosing wrong `cmap` can also lead to visualisations that can be difficult to interpret. Let's use an example to see this in action.\n",
    "\n",
    "**Example** How many waves do you see in this image?"
   ]
  },
  {
   "cell_type": "code",
   "execution_count": null,
   "metadata": {},
   "outputs": [],
   "source": [
    "x = np.linspace(0, 10, 1000)\n",
    "y = np.cos(x)\n",
    "frame = np.vstack([y]*1000)\n",
    "plt.imshow(frame, cmap='gray');"
   ]
  },
  {
   "cell_type": "markdown",
   "metadata": {},
   "source": [
    "Change cmap to 'jet' in the previous example. How many waves do you see in this image? Is it easier or difficult to count the number of waves in this cmap or the previous?"
   ]
  },
  {
   "cell_type": "code",
   "execution_count": null,
   "metadata": {},
   "outputs": [],
   "source": []
  },
  {
   "cell_type": "markdown",
   "metadata": {},
   "source": [
    "Change cmap to 'viridis' in the previous example. How many waves do you see in this image? Is this closer to the grayscale image?"
   ]
  },
  {
   "cell_type": "code",
   "execution_count": null,
   "metadata": {},
   "outputs": [],
   "source": []
  },
  {
   "cell_type": "markdown",
   "metadata": {},
   "source": [
    "**Example** Using `img/1p_maxproj.png`, display the original grayscale data alongside a version highlighting the top 25% of values. Apply gray colormap and adjust the display with `vmin` and/or `vmax` to emphasize the higher intensity regions."
   ]
  },
  {
   "cell_type": "code",
   "execution_count": null,
   "metadata": {},
   "outputs": [],
   "source": [
    "image = plt.imread('img/1p_maxproj.png')\n",
    "data = np.mean(image, axis=2)\n",
    "\n",
    "lower_percentile = np.percentile(data, 25)  \n",
    "\n",
    "plt.subplot(1, 2, 1)\n",
    "plt.title(\"Original Data\")\n",
    "plt.imshow(data, cmap='gray')\n",
    "plt.colorbar()\n",
    "\n",
    "plt.subplot(1, 2, 2)\n",
    "plt.title(\"Highlighting Top 25%\")\n",
    "plt.imshow(data, cmap='gray', vmin=lower_percentile)\n",
    "plt.colorbar();\n",
    "\n",
    "plt.tight_layout()"
   ]
  },
  {
   "cell_type": "markdown",
   "metadata": {},
   "source": [
    "Using `img/1p_maxproj.png`, display the original grayscale data alongside a version highlighting the bottom 25% of values. Apply gray colormap and adjust the display with `vmin` and/or `vmax` to emphasize the higher intensity regions."
   ]
  },
  {
   "cell_type": "code",
   "execution_count": null,
   "metadata": {},
   "outputs": [],
   "source": []
  },
  {
   "cell_type": "markdown",
   "metadata": {},
   "source": [
    "Using `img/1p_maxproj.png`, display the original grayscale data alongside a version highlighting the middle 50% of values. Apply gray colormap and adjust the display with `vmin` and/or `vmax` to emphasize the higher intensity regions."
   ]
  },
  {
   "cell_type": "code",
   "execution_count": null,
   "metadata": {},
   "outputs": [],
   "source": []
  },
  {
   "cell_type": "markdown",
   "metadata": {},
   "source": [
    "## Making composite images\n",
    "\n",
    "We saw how to separate channels. Now we will learn how to combine them. This section we will work on creation of composite images using individual color channels to form bi-chromatic images and full-color composite images.\n",
    "\n",
    "**Learning goals**\n",
    "1. Making bi-chromatic images\n",
    "2. Make composite images from rgb channels\n",
    "\n",
    "| Method | Explanation |\n",
    "| ------ | ----------- |\n",
    "| `np.zeros_like(array)` | Creates an array of zeros with the same shape and type as a given array. |\n",
    "| `np.stack((array1, array2, array3), axis=2)` | Stacks arrays along a new axis. This is used to combine separate single-channel images into one multi-channel image. |\n",
    "| `np.mean(array, axis=2)` | Calculates the mean across the specified axis, useful for converting RGB images to grayscale by averaging the color channels. |\n",
    "| `(array - np.min(array)) / (np.max(array) - np.min(array))` | Normalizes an array to have values between 0 and 1, based on its minimum and maximum values. This is crucial for balancing color channels in a composite image. |\n",
    "\n",
    "Run the below cell to make a fake image."
   ]
  },
  {
   "cell_type": "code",
   "execution_count": null,
   "metadata": {},
   "outputs": [],
   "source": [
    "red_channel = np.array([\n",
    "    [0., 0., 0.],\n",
    "    [0., 1., 0.],\n",
    "    [0., 0., 0.1]\n",
    "])\n",
    "\n",
    "green_channel = np.array([\n",
    "    [0.5, 0., 0.],\n",
    "    [0., 1., 0.],\n",
    "    [0., 0., 0.2]\n",
    "])\n",
    "\n",
    "blue_channel = np.array([\n",
    "    [0., 0., 0.7],\n",
    "    [0., 0., 0.],\n",
    "    [0.5, 0., 0.3]\n",
    "])"
   ]
  },
  {
   "cell_type": "markdown",
   "metadata": {},
   "source": [
    "**Example** Create a bi-chromatic image from red and blue channels (make green channel 0)."
   ]
  },
  {
   "cell_type": "code",
   "execution_count": null,
   "metadata": {},
   "outputs": [],
   "source": [
    "combined_image = np.stack((red_channel, np.zeros_like(red_channel), blue_channel), axis=2)\n",
    "plt.imshow(combined_image)"
   ]
  },
  {
   "cell_type": "markdown",
   "metadata": {},
   "source": [
    "Create a bi-chromatic image from green and blue channels (make red channel 0)."
   ]
  },
  {
   "cell_type": "code",
   "execution_count": null,
   "metadata": {},
   "outputs": [],
   "source": []
  },
  {
   "cell_type": "markdown",
   "metadata": {},
   "source": [
    "Create a bi-chromatic image from red and green channels (make blue channel 0)."
   ]
  },
  {
   "cell_type": "code",
   "execution_count": null,
   "metadata": {},
   "outputs": [],
   "source": []
  },
  {
   "cell_type": "markdown",
   "metadata": {},
   "source": [
    "Make a composite image combining all the three channels."
   ]
  },
  {
   "cell_type": "code",
   "execution_count": null,
   "metadata": {},
   "outputs": [],
   "source": []
  },
  {
   "cell_type": "markdown",
   "metadata": {},
   "source": [
    "**Example** Create a grayscale from the composite image"
   ]
  },
  {
   "cell_type": "code",
   "execution_count": null,
   "metadata": {},
   "outputs": [],
   "source": [
    "combined_image = np.stack((red_channel, green_channel, blue_channel), axis=2)\n",
    "manual_grayscale = np.mean(combined_image, axis=2)\n",
    "plt.imshow(manual_grayscale, cmap='gray')\n",
    "plt.colorbar();"
   ]
  },
  {
   "cell_type": "markdown",
   "metadata": {},
   "source": [
    "Let's see how to combine imbalanced channels. Run the below cell to create an imbalanced data.\n",
    "\n",
    "Notice the minimum and maximum in red, green, and blue channels. They are significantly different from each other. We have to normalize them individually before creating a composite image."
   ]
  },
  {
   "cell_type": "code",
   "execution_count": null,
   "metadata": {},
   "outputs": [],
   "source": [
    "red_channel = np.array([\n",
    "    [0., 0., 0.],\n",
    "    [0., 500., 0.],\n",
    "    [0., 0., 50.]\n",
    "])\n",
    "\n",
    "green_channel = np.array([\n",
    "    [250., 0., 0.],\n",
    "    [0., 500., 0.],\n",
    "    [0., 0., 100.]\n",
    "])\n",
    "\n",
    "blue_channel = np.array([\n",
    "    [0., 0., 350.],\n",
    "    [0., 0., 0.],\n",
    "    [175., 0., 150.]\n",
    "])"
   ]
  },
  {
   "cell_type": "markdown",
   "metadata": {},
   "source": [
    "Make composite image from these channels without normalizing the channels."
   ]
  },
  {
   "cell_type": "code",
   "execution_count": null,
   "metadata": {},
   "outputs": [],
   "source": [
    "combined_image = np.stack((red_channel, green_channel, blue_channel), axis=2)\n",
    "plt.imshow(combined_image);"
   ]
  },
  {
   "cell_type": "markdown",
   "metadata": {},
   "source": [
    "Run the below code to normalize the channels separately and compare the plot with the previous plot"
   ]
  },
  {
   "cell_type": "code",
   "execution_count": null,
   "metadata": {},
   "outputs": [],
   "source": [
    "red_normalized = (red_channel - np.min(red_channel)) / (np.max(red_channel) - np.min(red_channel))\n",
    "green_normalized = (green_channel - np.min(green_channel)) / (np.max(green_channel) - np.min(green_channel))\n",
    "blue_normalized = (blue_channel - np.min(blue_channel)) / (np.max(blue_channel) - np.min(blue_channel))\n",
    "\n",
    "# Stack the normalized channels to create a composite image\n",
    "composite_image = np.stack((red_normalized, green_normalized, blue_normalized), axis=2)\n",
    "\n",
    "# Display the composite image\n",
    "plt.imshow(composite_image)"
   ]
  }
 ],
 "metadata": {
  "kernelspec": {
   "display_name": "caiman",
   "language": "python",
   "name": "python3"
  },
  "language_info": {
   "codemirror_mode": {
    "name": "ipython",
    "version": 3
   },
   "file_extension": ".py",
   "mimetype": "text/x-python",
   "name": "python",
   "nbconvert_exporter": "python",
   "pygments_lexer": "ipython3",
   "version": "3.10.8"
  }
 },
 "nbformat": 4,
 "nbformat_minor": 2
}
