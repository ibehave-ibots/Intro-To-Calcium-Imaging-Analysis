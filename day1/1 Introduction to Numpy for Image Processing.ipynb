{
 "cells": [
  {
   "cell_type": "code",
   "execution_count": 1,
   "metadata": {},
   "outputs": [],
   "source": [
    "# %pip install numpy matplotlib"
   ]
  },
  {
   "cell_type": "code",
   "execution_count": 2,
   "metadata": {},
   "outputs": [],
   "source": [
    "import numpy as np\n",
    "import matplotlib.pyplot as plt"
   ]
  },
  {
   "cell_type": "markdown",
   "metadata": {},
   "source": [
    "## Reading, displaying, and cropping images\n",
    "\n",
    "**Learning goals**\n",
    "1. How to read images and see its dimensions and shape\n",
    "2. Plotting with cmap, vmin, vmax\n",
    "3. Displaying only part of an image"
   ]
  },
  {
   "cell_type": "code",
   "execution_count": null,
   "metadata": {},
   "outputs": [],
   "source": [
    "image = plt.imread('path/to/image.jpg')\n",
    "plt.imshow(image)"
   ]
  },
  {
   "cell_type": "code",
   "execution_count": null,
   "metadata": {},
   "outputs": [],
   "source": [
    "print(f\"Dimensions: {image.ndim}\")\n",
    "print(f\"Shape: {image.shape}\")"
   ]
  },
  {
   "cell_type": "code",
   "execution_count": null,
   "metadata": {},
   "outputs": [],
   "source": [
    "plt.imshow(image, cmap='gray')\n",
    "plt.show()\n",
    "plt.imshow(image, cmap='viridis')\n",
    "plt.show()\n",
    "plt.imshow(image, cmap='jet')\n",
    "plt.show()"
   ]
  },
  {
   "cell_type": "code",
   "execution_count": null,
   "metadata": {},
   "outputs": [],
   "source": [
    "cropped_image = image[50:150, 100:200]  # Adjust indices as needed\n",
    "plt.imshow(cropped_image)\n",
    "plt.show()"
   ]
  },
  {
   "cell_type": "markdown",
   "metadata": {},
   "source": [
    "## Separating channels\n",
    "\n",
    "**Learning goals**\n",
    "1. Grayscale and RGB image difference\n",
    "2. Separating channels and visualizing them"
   ]
  },
  {
   "cell_type": "code",
   "execution_count": null,
   "metadata": {},
   "outputs": [],
   "source": [
    "grayscale_image = np.mean(image, axis=2)\n",
    "plt.imshow(grayscale_image, cmap='gray')\n",
    "plt.show()"
   ]
  },
  {
   "cell_type": "code",
   "execution_count": null,
   "metadata": {},
   "outputs": [],
   "source": [
    "red_channel = image[:,:,0]\n",
    "green_channel = image[:,:,1]\n",
    "blue_channel = image[:,:,2]\n",
    "plt.imshow(red_channel, cmap='Reds')\n",
    "plt.show()\n",
    "plt.imshow(green_channel, cmap='Greens')\n",
    "plt.show()\n",
    "plt.imshow(blue_channel, cmap='Blues')\n",
    "plt.show()"
   ]
  },
  {
   "cell_type": "code",
   "execution_count": null,
   "metadata": {},
   "outputs": [],
   "source": [
    "swapped_image = image[:, :, [1, 0, 2]]  # Swap red and green\n",
    "plt.imshow(swapped_image)\n",
    "plt.show()"
   ]
  },
  {
   "cell_type": "code",
   "execution_count": null,
   "metadata": {},
   "outputs": [],
   "source": [
    "plt.hist(red_channel.ravel(), bins=256, color='red', alpha=0.5)\n",
    "plt.hist(green_channel.ravel(), bins=256, color='green', alpha=0.5)\n",
    "plt.hist(blue_channel.ravel(), bins=256, color='blue', alpha=0.5)\n",
    "plt.show()"
   ]
  },
  {
   "cell_type": "markdown",
   "metadata": {},
   "source": [
    "## Exploring cmaps further and Filtering images\n",
    "\n",
    "**Learning goals**\n",
    "Filtering based on condition to highlight certain regions of image"
   ]
  },
  {
   "cell_type": "code",
   "execution_count": null,
   "metadata": {},
   "outputs": [],
   "source": [
    "thresholded = image > 128  # Apply threshold\n",
    "plt.imshow(thresholded, cmap='gray')\n",
    "plt.show()"
   ]
  },
  {
   "cell_type": "code",
   "execution_count": null,
   "metadata": {},
   "outputs": [],
   "source": [
    "specific_range = np.logical_and(image > 100, image < 150)\n",
    "plt.imshow(specific_range, cmap='gray')\n",
    "plt.show()"
   ]
  },
  {
   "cell_type": "code",
   "execution_count": null,
   "metadata": {},
   "outputs": [],
   "source": [
    "sin_wave = np.sin(np.linspace(-np.pi * 4, np.pi * 4, 200))\n",
    "sin_matrix = np.tile(sin_wave, (200, 1))\n",
    "plt.imshow(sin_matrix, cmap='gray');"
   ]
  },
  {
   "cell_type": "code",
   "execution_count": null,
   "metadata": {},
   "outputs": [],
   "source": [
    "frame = np.array(\n",
    "    [\n",
    "        [-10, 0, 0],\n",
    "        [0, 10, 0],\n",
    "        [0, 0 ,-10]\n",
    "    ]\n",
    ")\n",
    "plt.imshow(frame, cmap='coolwarm')\n",
    "plt.colorbar();"
   ]
  },
  {
   "cell_type": "code",
   "execution_count": null,
   "metadata": {},
   "outputs": [],
   "source": [
    "significant_activity_vmin = np.percentile(activity_data, 75)  # 75th percentile for top 25%\n",
    "\n",
    "plt.figure(figsize=(12, 6))\n",
    "plt.subplot(1, 2, 1)\n",
    "plt.title(\"Original Activity Data\")\n",
    "plt.imshow(activity_data, cmap='viridis')\n",
    "plt.colorbar()\n",
    "\n",
    "plt.subplot(1, 2, 2)\n",
    "plt.title(\"Highlighting Top 25% Activity\")\n",
    "plt.imshow(activity_data, cmap='viridis', vmin=significant_activity_vmin, vmax=255)\n",
    "plt.colorbar()\n"
   ]
  },
  {
   "cell_type": "markdown",
   "metadata": {},
   "source": [
    "## Making composite images\n",
    "\n",
    "1. Make composite images from red and green channel\n",
    "2. Make composite images from rgb channels"
   ]
  },
  {
   "cell_type": "code",
   "execution_count": null,
   "metadata": {},
   "outputs": [],
   "source": [
    "combined_image = np.stack((red_channel, np.zeros_like(red_channel), blue_channel), axis=2)\n",
    "plt.imshow(combined_image)\n",
    "plt.show()"
   ]
  },
  {
   "cell_type": "code",
   "execution_count": null,
   "metadata": {},
   "outputs": [],
   "source": [
    "manual_grayscale = (red_channel + green_channel + blue_channel) / 3\n",
    "plt.imshow(manual_grayscale, cmap='gray')\n",
    "plt.show()"
   ]
  },
  {
   "cell_type": "code",
   "execution_count": null,
   "metadata": {},
   "outputs": [],
   "source": [
    "combined_image = np.stack((red_channel, green_channel, blue_channel), axis=2)\n",
    "plt.imshow(combined_image)\n",
    "plt.show()"
   ]
  },
  {
   "cell_type": "code",
   "execution_count": null,
   "metadata": {},
   "outputs": [],
   "source": [
    "#normalization"
   ]
  }
 ],
 "metadata": {
  "kernelspec": {
   "display_name": "caiman",
   "language": "python",
   "name": "python3"
  },
  "language_info": {
   "codemirror_mode": {
    "name": "ipython",
    "version": 3
   },
   "file_extension": ".py",
   "mimetype": "text/x-python",
   "name": "python",
   "nbconvert_exporter": "python",
   "pygments_lexer": "ipython3",
   "version": "3.10.8"
  }
 },
 "nbformat": 4,
 "nbformat_minor": 2
}
