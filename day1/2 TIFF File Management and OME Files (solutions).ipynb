{
 "cells": [
  {
   "cell_type": "code",
   "execution_count": null,
   "metadata": {},
   "outputs": [],
   "source": [
    "# %pip install numpy matplotlib tifffile lxml"
   ]
  },
  {
   "cell_type": "code",
   "execution_count": null,
   "metadata": {},
   "outputs": [],
   "source": [
    "import numpy as np\n",
    "import matplotlib.pyplot as plt\n",
    "from tifffile import TiffFile, imread, imwrite\n",
    "import json\n",
    "from pprint import pprint\n",
    "import xml.dom.minidom\n",
    "import sciebo"
   ]
  },
  {
   "cell_type": "code",
   "execution_count": null,
   "metadata": {},
   "outputs": [],
   "source": [
    "sciebo.download_from_sciebo('https://uni-bonn.sciebo.de/s/3Uf2gScrvuTPQhB', 'data/steinmetz_2017-01-08_Muller.nc')\n"
   ]
  },
  {
   "cell_type": "markdown",
   "metadata": {},
   "source": [
    "## Reading TIFF File \n",
    "\n",
    "TIFF, which stands for Tagged Image File Format, is a flexible and adaptable file format for storing images and data within a single file. It can be used to store multiple frames as `pages`.\n",
    "\n",
    "**Example** Read `data_endoscope.tif`. How many frames does it have?"
   ]
  },
  {
   "cell_type": "code",
   "execution_count": null,
   "metadata": {},
   "outputs": [],
   "source": [
    "frames = imread('../data/data_endoscope.tif')\n",
    "frames.shape"
   ]
  },
  {
   "cell_type": "markdown",
   "metadata": {},
   "source": [
    "Read `Sue_2x_3000_40_-46.tif`. How many frames does this data have?"
   ]
  },
  {
   "cell_type": "code",
   "execution_count": null,
   "metadata": {},
   "outputs": [],
   "source": [
    "frames = imread('../data/Sue_2x_3000_40_-46.tif')\n",
    "frames.shape"
   ]
  },
  {
   "cell_type": "markdown",
   "metadata": {},
   "source": [
    "Read `Sue_2x_3000_40_-46.tif`. How long does it take?\n",
    "\n",
    "Hint: Put `%%timeit` in the beginning of the cell"
   ]
  },
  {
   "cell_type": "code",
   "execution_count": null,
   "metadata": {},
   "outputs": [],
   "source": [
    "%%timeit\n",
    "frames = imread('../data/Sue_2x_3000_40_-46.tif')"
   ]
  },
  {
   "cell_type": "markdown",
   "metadata": {},
   "source": [
    "Read `Sue_2x_3000_40_-46.tif`. How long does it take to access the last frame?\n",
    "\n",
    "Hint: Put `%%timeit` in the beginning of the cell"
   ]
  },
  {
   "cell_type": "code",
   "execution_count": null,
   "metadata": {},
   "outputs": [],
   "source": [
    "%%timeit\n",
    "frames = imread('../data/Sue_2x_3000_40_-46.tif')\n",
    "frames[-1]"
   ]
  },
  {
   "cell_type": "markdown",
   "metadata": {},
   "source": [
    "**Example** Let's see the plots. Plot the first frame"
   ]
  },
  {
   "cell_type": "code",
   "execution_count": null,
   "metadata": {},
   "outputs": [],
   "source": [
    "plt.imshow(frames[0], cmap='gray')"
   ]
  },
  {
   "cell_type": "markdown",
   "metadata": {},
   "source": [
    "Plot the last frame"
   ]
  },
  {
   "cell_type": "code",
   "execution_count": null,
   "metadata": {},
   "outputs": [],
   "source": [
    "plt.imshow(frames[-1], cmap='gray')"
   ]
  },
  {
   "cell_type": "markdown",
   "metadata": {},
   "source": [
    "**Example** Read only the first 3 frames from `Sue_2x_3000_40_-46.tif`"
   ]
  },
  {
   "cell_type": "code",
   "execution_count": null,
   "metadata": {},
   "outputs": [],
   "source": [
    "frames = imread('../data/Sue_2x_3000_40_-46.tif', key=(0, 1, 2))\n",
    "frames.shape"
   ]
  },
  {
   "cell_type": "markdown",
   "metadata": {},
   "source": [
    "Read only 1, 3, 5, 7, 9th frame from `Sue_2x_3000_40_-46.tif`"
   ]
  },
  {
   "cell_type": "code",
   "execution_count": null,
   "metadata": {},
   "outputs": [],
   "source": [
    "frames = imread('../data/Sue_2x_3000_40_-46.tif', key=(0, 2, 4, 6, 8))\n",
    "frames.shape"
   ]
  },
  {
   "cell_type": "markdown",
   "metadata": {},
   "source": [
    "Read only first 100 frames from `Sue_2x_3000_40_-46.tif`\n",
    "\n",
    "Hint: use range(0, 100)"
   ]
  },
  {
   "cell_type": "code",
   "execution_count": null,
   "metadata": {},
   "outputs": [],
   "source": [
    "frames = imread('../data/Sue_2x_3000_40_-46.tif', key=range(0, 100))\n",
    "frames.shape"
   ]
  },
  {
   "cell_type": "markdown",
   "metadata": {},
   "source": [
    "**Example** Read `data_endoscope.tif` with `TiffFile`?"
   ]
  },
  {
   "cell_type": "code",
   "execution_count": null,
   "metadata": {},
   "outputs": [],
   "source": [
    "f = TiffFile('../data/data_endoscope.tif')\n",
    "frames = np.array([page.asarray() for page in f.pages])"
   ]
  },
  {
   "cell_type": "markdown",
   "metadata": {},
   "source": [
    "Read `Sue_2x_3000_40_-46.tif` with TiffFile"
   ]
  },
  {
   "cell_type": "code",
   "execution_count": null,
   "metadata": {},
   "outputs": [],
   "source": [
    "f = TiffFile('../data/Sue_2x_3000_40_-46.tif')\n",
    "frames = np.array([page.asarray() for page in f.pages])"
   ]
  },
  {
   "cell_type": "markdown",
   "metadata": {},
   "source": [
    "How long does it take to read `Sue_2x_3000_40_-46.tif` with TiffFile?"
   ]
  },
  {
   "cell_type": "code",
   "execution_count": null,
   "metadata": {},
   "outputs": [],
   "source": [
    "%%timeit\n",
    "f = TiffFile('../data/Sue_2x_3000_40_-46.tif')\n",
    "frames = np.array([page.asarray() for page in f.pages])"
   ]
  },
  {
   "cell_type": "markdown",
   "metadata": {},
   "source": [
    "How long does it take to access only the last frame with TiffFile?"
   ]
  },
  {
   "cell_type": "code",
   "execution_count": null,
   "metadata": {},
   "outputs": [],
   "source": [
    "%%timeit\n",
    "f = TiffFile(\"../data/data_endoscope.tif\") \n",
    "f.pages[-1].asarray()"
   ]
  },
  {
   "cell_type": "markdown",
   "metadata": {},
   "source": [
    "## Metadata handling and TIFF file writing "
   ]
  },
  {
   "cell_type": "code",
   "execution_count": null,
   "metadata": {},
   "outputs": [],
   "source": [
    "f = TiffFile('../data/data_endoscope.tif')\n",
    "print(f)"
   ]
  },
  {
   "cell_type": "code",
   "execution_count": null,
   "metadata": {},
   "outputs": [],
   "source": [
    "f = TiffFile('../data/Sue_2x_3000_40_-46.tif')\n",
    "print(f)"
   ]
  },
  {
   "cell_type": "code",
   "execution_count": null,
   "metadata": {},
   "outputs": [],
   "source": [
    "f = TiffFile('../data/data_endoscope.tif')\n",
    "print(f.pages[0].tags)"
   ]
  },
  {
   "cell_type": "code",
   "execution_count": null,
   "metadata": {},
   "outputs": [],
   "source": [
    "f = TiffFile('../data/data_endoscope.tif')\n",
    "print(f.pages[499].tags)"
   ]
  },
  {
   "cell_type": "code",
   "execution_count": null,
   "metadata": {},
   "outputs": [],
   "source": [
    "f = TiffFile('../data/data_endoscope.tif')\n",
    "print(f.pages[999].tags)"
   ]
  },
  {
   "cell_type": "code",
   "execution_count": null,
   "metadata": {},
   "outputs": [],
   "source": [
    "f = TiffFile('../data/data_endoscope.tif')\n",
    "print(f.pages[999].tags['ImageWidth'].value)"
   ]
  },
  {
   "cell_type": "code",
   "execution_count": null,
   "metadata": {},
   "outputs": [],
   "source": [
    "f = TiffFile('../data/data_endoscope.tif')\n",
    "print(f.pages[999].tags['PhotometricInterpretation'].value)"
   ]
  },
  {
   "cell_type": "code",
   "execution_count": null,
   "metadata": {},
   "outputs": [],
   "source": [
    "f = TiffFile('../data/data_endoscope.tif')\n",
    "print(f.pages[999].tags['ResolutionUnit'].value)"
   ]
  },
  {
   "cell_type": "code",
   "execution_count": null,
   "metadata": {},
   "outputs": [],
   "source": [
    "frame1 = np.random.rand(100, 100)  # Frame 1\n",
    "frame2 = np.random.rand(100, 100)  # Frame 2\n",
    "frame3 = np.random.rand(100, 100)  # Frame 3"
   ]
  },
  {
   "cell_type": "code",
   "execution_count": null,
   "metadata": {},
   "outputs": [],
   "source": [
    "tiff_path = 'output/output_file.tiff'\n",
    "imwrite(tiff_path, [frame1, frame2, frame3], photometric='minisblack')\n",
    "\n",
    "f = TiffFile('output/output_file.tiff')\n",
    "print(f)"
   ]
  },
  {
   "cell_type": "code",
   "execution_count": null,
   "metadata": {},
   "outputs": [],
   "source": [
    "tiff_path = 'output/output_file.tiff'\n",
    "imwrite(tiff_path, [frame1, frame2, frame3], photometric='minisblack')\n",
    "\n",
    "f = TiffFile('output/output_file.tiff')\n",
    "print(f.pages[-1].tags)"
   ]
  },
  {
   "cell_type": "code",
   "execution_count": null,
   "metadata": {},
   "outputs": [],
   "source": [
    "tiff_path = 'output/output_file.tiff'\n",
    "imwrite(tiff_path, [frame1, frame2, frame3], photometric='rgb')\n",
    "\n",
    "f = TiffFile('output/output_file.tiff')\n",
    "print(f.pages[-1].tags['PhotometricInterpretation'].value)"
   ]
  },
  {
   "cell_type": "code",
   "execution_count": null,
   "metadata": {},
   "outputs": [],
   "source": [
    "metadata = {\n",
    "    'Experiment': 'Calcium Imaging',\n",
    "}\n",
    "metadata_json = json.dumps(metadata)\n",
    "tiff_path = 'output/output_file.tiff'\n",
    "imwrite(tiff_path, [frame1, frame2, frame3], description=metadata_json)\n",
    "\n",
    "f = TiffFile('output/output_file.tiff')\n",
    "print(f.pages[0].tags['ImageDescription'].value)"
   ]
  },
  {
   "cell_type": "code",
   "execution_count": null,
   "metadata": {},
   "outputs": [],
   "source": [
    "metadata = {\n",
    "    'Experiment': 'Calcium Imaging',\n",
    "    'Date': '2024-02-25'\n",
    "}\n",
    "metadata_json = json.dumps(metadata)\n",
    "tiff_path = 'output/output_file.tiff'\n",
    "imwrite(tiff_path, [frame1, frame2, frame3], description=metadata_json)\n",
    "\n",
    "f = TiffFile('output/output_file.tiff')\n",
    "print(f.pages[0].tags['ImageDescription'].value)"
   ]
  },
  {
   "cell_type": "code",
   "execution_count": null,
   "metadata": {},
   "outputs": [],
   "source": [
    "metadata = {\n",
    "    'Experiment': 'Calcium Imaging',\n",
    "    'Date': '2024-02-25',\n",
    "    'Researcher': 'Sangee'\n",
    "}\n",
    "metadata_json = json.dumps(metadata)\n",
    "tiff_path = 'output/output_file.tiff'\n",
    "imwrite(tiff_path, [frame1, frame2, frame3], description=metadata_json)\n",
    "\n",
    "f = TiffFile('output/output_file.tiff')\n",
    "print(f.pages[0].tags['ImageDescription'].value)"
   ]
  },
  {
   "cell_type": "markdown",
   "metadata": {},
   "source": [
    "## OME data model and structure\n",
    "\n",
    "\n",
    "**Example** Read and print OME metadata from output_file.tiff. Is there any?"
   ]
  },
  {
   "cell_type": "code",
   "execution_count": null,
   "metadata": {},
   "outputs": [],
   "source": [
    "f = TiffFile('output/output_file.tiff')\n",
    "ome_metadata = f.ome_metadata\n",
    "print(ome_metadata)"
   ]
  },
  {
   "cell_type": "markdown",
   "metadata": {},
   "source": [
    "Read and print ome metadata of `output.ome.tiff`. Is it readable?"
   ]
  },
  {
   "cell_type": "code",
   "execution_count": null,
   "metadata": {},
   "outputs": [],
   "source": [
    "f = TiffFile('output/output.ome.tiff')\n",
    "ome_metadata = f.ome_metadata\n",
    "print(ome_metadata)"
   ]
  },
  {
   "cell_type": "markdown",
   "metadata": {},
   "source": [
    "Let's make it more readable. Instead of `print` use `pprint` which means `pretty print`"
   ]
  },
  {
   "cell_type": "code",
   "execution_count": null,
   "metadata": {},
   "outputs": [],
   "source": [
    "f = TiffFile('output/output.ome.tiff')\n",
    "ome_metadata = f.ome_metadata\n",
    "pprint(ome_metadata)"
   ]
  },
  {
   "cell_type": "markdown",
   "metadata": {},
   "source": [
    "Better. The format of the output is XML. XML, which stands for eXtensible Markup Language, is a markup language that defines a set of rules for encoding documents in a format that is both human-readable and machine-readable. \n",
    "\n",
    "**Example** Read ome metadata of output.ome.tiff and use inbuilt library `xml` to parse the string format to pretty xml. "
   ]
  },
  {
   "cell_type": "code",
   "execution_count": null,
   "metadata": {},
   "outputs": [],
   "source": [
    "f = TiffFile('output/output.ome.tiff')\n",
    "ome_metadata = f.ome_metadata\n",
    "dom = xml.dom.minidom.parseString(ome_metadata) \n",
    "pprint(dom.toprettyxml())"
   ]
  },
  {
   "cell_type": "markdown",
   "metadata": {},
   "source": [
    "Read ome metadata of multifile-Z1.ome.tiff and use inbuilt library `xml` to parse the string format to pretty xml "
   ]
  },
  {
   "cell_type": "code",
   "execution_count": null,
   "metadata": {},
   "outputs": [],
   "source": [
    "f = TiffFile('../data/multifile-Z1.ome.tiff')\n",
    "ome_metadata = f.ome_metadata\n",
    "dom = xml.dom.minidom.parseString(ome_metadata) \n",
    "pprint(dom.toprettyxml())"
   ]
  },
  {
   "cell_type": "markdown",
   "metadata": {},
   "source": [
    "https://downloads.openmicroscopy.org/images/OME-TIFF/2016-06/MitoCheck/\n",
    "\n",
    "Let's use `00001_01.ome.tiff` for the rest of the exercises. Read its metadata and pretty print in pretty xml.\n",
    "\n",
    "Looking through its data, what are the X, Y, and temporal dimensions?"
   ]
  },
  {
   "cell_type": "code",
   "execution_count": null,
   "metadata": {},
   "outputs": [],
   "source": [
    "f = TiffFile('output/00001_01.ome.tiff')\n",
    "ome_metadata = f.ome_metadata\n",
    "dom = xml.dom.minidom.parseString(ome_metadata) \n",
    "pprint(dom.toprettyxml())"
   ]
  },
  {
   "cell_type": "markdown",
   "metadata": {},
   "source": [
    "Confirm the dimensions by checking shape of the image data"
   ]
  },
  {
   "cell_type": "code",
   "execution_count": null,
   "metadata": {},
   "outputs": [],
   "source": [
    "f = TiffFile('output/00001_01.ome.tiff')\n",
    "image_data = f.asarray()\n",
    "image_data.shape"
   ]
  },
  {
   "cell_type": "markdown",
   "metadata": {},
   "source": [
    "**Example** It's been a while since we visualized something! Let's see how the first frame looks like? What kind of data is this?"
   ]
  },
  {
   "cell_type": "code",
   "execution_count": null,
   "metadata": {},
   "outputs": [],
   "source": [
    "f = TiffFile('output/00001_01.ome.tiff')\n",
    "image_data = f.asarray()\n",
    "plt.imshow(image_data[0]);"
   ]
  },
  {
   "cell_type": "markdown",
   "metadata": {},
   "source": [
    "Let's see how the second frame looks like."
   ]
  },
  {
   "cell_type": "code",
   "execution_count": null,
   "metadata": {},
   "outputs": [],
   "source": [
    "f = TiffFile('output/00001_01.ome.tiff')\n",
    "image_data = f.asarray()\n",
    "plt.imshow(image_data[1]);"
   ]
  },
  {
   "cell_type": "markdown",
   "metadata": {},
   "source": [
    "Let's see how the last frame looks like."
   ]
  },
  {
   "cell_type": "code",
   "execution_count": null,
   "metadata": {},
   "outputs": [],
   "source": [
    "f = TiffFile('output/00001_01.ome.tiff')\n",
    "image_data = f.asarray()\n",
    "plt.imshow(image_data[-1]);"
   ]
  },
  {
   "cell_type": "code",
   "execution_count": null,
   "metadata": {},
   "outputs": [],
   "source": [
    "from matplotlib.animation import FuncAnimation\n",
    "\n",
    "frames = image_data.copy()\n",
    "\n",
    "fig, ax = plt.subplots()\n",
    "frame = frames[0]  \n",
    "im = ax.imshow(frame, animated=True)\n",
    "\n",
    "def update(frame):\n",
    "    im.set_array(frame)\n",
    "    return [im]\n",
    "\n",
    "ani = FuncAnimation(fig, update, frames=frames, blit=True, interval=50);\n",
    "\n",
    "from IPython.display import HTML\n",
    "HTML(ani.to_jshtml())\n"
   ]
  },
  {
   "cell_type": "markdown",
   "metadata": {},
   "source": [
    "## Writing OME Data and metadata"
   ]
  },
  {
   "cell_type": "code",
   "execution_count": null,
   "metadata": {},
   "outputs": [],
   "source": [
    "frame1 = np.random.rand(100, 100)  # Frame 1"
   ]
  },
  {
   "cell_type": "code",
   "execution_count": null,
   "metadata": {},
   "outputs": [],
   "source": [
    "metadata = {\n",
    "    'Experiment': 'Calcium Imaging',\n",
    "}\n",
    "tiff_path = 'output/output.ome.tiff'\n",
    "imwrite(tiff_path, [frame1, frame2, frame3], metadata={'Description': str(metadata)})\n",
    "\n",
    "f = TiffFile('output/output.ome.tiff')\n",
    "ome_metadata = f.ome_metadata\n",
    "pprint(ome_metadata)"
   ]
  },
  {
   "cell_type": "markdown",
   "metadata": {},
   "source": [
    "Is there any software that can help with this? YES!\n",
    "\n",
    "Use Bio-Format Importer from Plugins tab in ImageJ to import `00001_01.ome.tiff`. \n",
    "\n",
    "\n",
    "It might take a while to laod. Check `open xml`. Feel free to explore other options "
   ]
  }
 ],
 "metadata": {
  "kernelspec": {
   "display_name": "caiman",
   "language": "python",
   "name": "python3"
  },
  "language_info": {
   "codemirror_mode": {
    "name": "ipython",
    "version": 3
   },
   "file_extension": ".py",
   "mimetype": "text/x-python",
   "name": "python",
   "nbconvert_exporter": "python",
   "pygments_lexer": "ipython3",
   "version": "3.10.8"
  }
 },
 "nbformat": 4,
 "nbformat_minor": 2
}
