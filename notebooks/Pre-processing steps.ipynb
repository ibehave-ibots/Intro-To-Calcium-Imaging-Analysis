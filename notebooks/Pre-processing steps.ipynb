{
 "cells": [
  {
   "cell_type": "code",
   "execution_count": null,
   "metadata": {},
   "outputs": [],
   "source": [
    "# %pip install numpy tifffile matplotlib"
   ]
  },
  {
   "cell_type": "code",
   "execution_count": 1,
   "metadata": {},
   "outputs": [],
   "source": [
    "import tifffile as tiff\n",
    "import matplotlib.pyplot as plt\n",
    "import numpy as np\n",
    "from scipy.interpolate import griddata"
   ]
  },
  {
   "cell_type": "markdown",
   "metadata": {},
   "source": [
    "# Pre-processing steps in CaImAn\n",
    "\n",
    "\n",
    "1. **Check and Interpolate Missing Data**:\n",
    "   - **Description**: Checks for missing data (NaNs) in the input movie `Y` and interpolates to fill these gaps.\n",
    "   - **Purpose**: Ensuring data continuity and integrity by addressing missing or corrupted frames in the imaging sequence.\n",
    "\n",
    "2. **Noise Estimation**:\n",
    "   - **Description**: Estimates the noise level in the movie using the power spectral density (PSD) of the signal.\n",
    "   - **Purpose**: Accurate noise estimation is crucial for subsequent processing steps, as it influences the extraction of neural signals.\n",
    "\n",
    "3. **Estimation of Temporal Components (AR Coefficients)**:\n",
    "   - **Description**: Estimates the autoregressive (AR) model coefficients (time constants) for the movie.\n",
    "   - **Purpose**: The AR model coefficients are important for understanding the temporal dynamics of the calcium signal.\n",
    "\n",
    "4. **Return Preprocessed Data and Parameters**:\n",
    "   - **Description**: The function returns the preprocessed movie, the estimated noise level, the AR coefficients, and a placeholder (None) for future use.\n",
    "   - **Purpose**: Provides the necessary outputs for further processing steps in the calcium imaging data analysis pipeline.\n",
    "\n",
    "This function is a part of the preprocessing stage in calcium imaging data analysis, setting up the data for more advanced processing like source extraction and activity analysis. The steps are designed to ensure data quality and to extract essential parameters that describe the noise and temporal dynamics of the imaging data."
   ]
  },
  {
   "cell_type": "code",
   "execution_count": 2,
   "metadata": {},
   "outputs": [],
   "source": [
    "with tiff.TiffFile('../data/example_nan_frames.tif') as tif:\n",
    "    frames = [page.asarray() for page in tif.pages]\n",
    "\n",
    "frames = frames[0]"
   ]
  },
  {
   "cell_type": "markdown",
   "metadata": {},
   "source": [
    "## Interpolating missing data"
   ]
  },
  {
   "cell_type": "code",
   "execution_count": 3,
   "metadata": {},
   "outputs": [
    {
     "data": {
      "text/plain": [
       "<matplotlib.colorbar.Colorbar at 0x7f31109fef10>"
      ]
     },
     "execution_count": 3,
     "metadata": {},
     "output_type": "execute_result"
    },
    {
     "data": {
      "image/png": "[encoded data removed]",
      "text/plain": [
       "<Figure size 432x288 with 2 Axes>"
      ]
     },
     "metadata": {
      "needs_background": "light"
     },
     "output_type": "display_data"
    }
   ],
   "source": [
    "# plot frame 1\n",
    "plt.imshow(frames[0])\n",
    "plt.colorbar()"
   ]
  },
  {
   "cell_type": "code",
   "execution_count": 4,
   "metadata": {},
   "outputs": [
    {
     "data": {
      "text/plain": [
       "True"
      ]
     },
     "execution_count": 4,
     "metadata": {},
     "output_type": "execute_result"
    }
   ],
   "source": [
    "# are there any nan values in frame 1\n",
    "frame = frames[0]\n",
    "np.isnan(frame).any()"
   ]
  },
  {
   "cell_type": "code",
   "execution_count": 5,
   "metadata": {},
   "outputs": [
    {
     "data": {
      "text/plain": [
       "True"
      ]
     },
     "execution_count": 5,
     "metadata": {},
     "output_type": "execute_result"
    }
   ],
   "source": [
    "# are there any nan values in frame 2\n",
    "frame = frames[1]\n",
    "np.isnan(frame).any()"
   ]
  },
  {
   "cell_type": "code",
   "execution_count": 6,
   "metadata": {},
   "outputs": [
    {
     "data": {
      "text/plain": [
       "True"
      ]
     },
     "execution_count": 6,
     "metadata": {},
     "output_type": "execute_result"
    }
   ],
   "source": [
    "# are there any nan values in frame 3\n",
    "frame = frames[2]\n",
    "np.isnan(frame).any()"
   ]
  },
  {
   "cell_type": "code",
   "execution_count": 7,
   "metadata": {},
   "outputs": [],
   "source": [
    "# all three frames have nan values in them"
   ]
  },
  {
   "cell_type": "code",
   "execution_count": 11,
   "metadata": {},
   "outputs": [
    {
     "data": {
      "text/plain": [
       "False"
      ]
     },
     "execution_count": 11,
     "metadata": {},
     "output_type": "execute_result"
    },
    {
     "data": {
      "image/png": "[encoded data removed]",
      "text/plain": [
       "<Figure size 432x288 with 4 Axes>"
      ]
     },
     "metadata": {
      "needs_background": "light"
     },
     "output_type": "display_data"
    }
   ],
   "source": [
    "frame = frames[0].copy()\n",
    "height, width = frame.shape\n",
    "\n",
    "# generate a grid of indices covering the entire image\n",
    "x, y = np.indices((height, width)) \n",
    "\n",
    "# Extracting Points and Values for Interpolation\n",
    "points = np.array((x[~np.isnan(frame)], y[~np.isnan(frame)])).T\n",
    "values = frame[~np.isnan(frame)]\n",
    "\n",
    "# Identifying Pixels that Need to be Interpolated:\n",
    "grid_x, grid_y = x[np.isnan(frame)], y[np.isnan(frame)]\n",
    "\n",
    "# Performing the Interpolation\n",
    "frame[np.isnan(frame)] = griddata(points, values, (grid_x, grid_y), method='nearest')\n",
    "\n",
    "\n",
    "plt.subplot(121)\n",
    "plt.imshow(frames[0])\n",
    "plt.title('Original')\n",
    "plt.colorbar()\n",
    "\n",
    "plt.subplot(122)\n",
    "plt.imshow(frame)\n",
    "plt.title('Interpolated')\n",
    "plt.colorbar()\n",
    "\n",
    "# no more missing values\n",
    "# Lets also check it to make sure\n",
    "\n",
    "np.isnan(frame).any()\n",
    "\n",
    "# False means there are no NaN values in the frame anymore"
   ]
  },
  {
   "cell_type": "markdown",
   "metadata": {},
   "source": [
    "## Noise Estimation"
   ]
  },
  {
   "cell_type": "code",
   "execution_count": null,
   "metadata": {},
   "outputs": [],
   "source": []
  }
 ],
 "metadata": {
  "kernelspec": {
   "display_name": "Python 3",
   "language": "python",
   "name": "python3"
  },
  "language_info": {
   "codemirror_mode": {
    "name": "ipython",
    "version": 3
   },
   "file_extension": ".py",
   "mimetype": "text/x-python",
   "name": "python",
   "nbconvert_exporter": "python",
   "pygments_lexer": "ipython3",
   "version": "3.8.10"
  }
 },
 "nbformat": 4,
 "nbformat_minor": 2
}
